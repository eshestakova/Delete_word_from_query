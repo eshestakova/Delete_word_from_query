{
 "cells": [
  {
   "cell_type": "code",
   "execution_count": 51,
   "metadata": {},
   "outputs": [],
   "source": [
    "import pandas as pd\n",
    "import numpy as np\n",
    "from scipy import spatial\n",
    "import matplotlib.pyplot as plt\n",
    "%matplotlib inline\n",
    "from sklearn.feature_extraction.text import TfidfTransformer\n",
    "from sklearn.feature_extraction.text import CountVectorizer\n",
    "from sklearn.model_selection import train_test_split\n",
    "from sklearn.ensemble import RandomForestClassifier\n",
    "from sklearn.metrics import confusion_matrix, accuracy_score\n",
    "from gensim.models import Word2Vec\n",
    "from gensim.models.phrases import Phrases, Phraser\n",
    "from tqdm import tqdm\n",
    "import pymorphy2\n",
    "import string\n",
    "import joblib\n",
    "import collections"
   ]
  },
  {
   "cell_type": "code",
   "execution_count": 4,
   "metadata": {},
   "outputs": [],
   "source": [
    "import warnings\n",
    "warnings.filterwarnings('ignore')"
   ]
  },
  {
   "cell_type": "markdown",
   "metadata": {},
   "source": [
    "#### Таблица с исходными и исправленными запросами\n",
    "\n",
    "- orig - исходный запрос\n",
    "- new - исправленный запрос\n",
    "- deleted - удаленные из исходного запроса слова\n",
    "- added - добавленные в исходный запрос слова"
   ]
  },
  {
   "cell_type": "code",
   "execution_count": 5,
   "metadata": {},
   "outputs": [
    {
     "name": "stdout",
     "output_type": "stream",
     "text": [
      "(4410, 4)\n"
     ]
    },
    {
     "data": {
      "text/html": [
       "<div>\n",
       "<style scoped>\n",
       "    .dataframe tbody tr th:only-of-type {\n",
       "        vertical-align: middle;\n",
       "    }\n",
       "\n",
       "    .dataframe tbody tr th {\n",
       "        vertical-align: top;\n",
       "    }\n",
       "\n",
       "    .dataframe thead th {\n",
       "        text-align: right;\n",
       "    }\n",
       "</style>\n",
       "<table border=\"1\" class=\"dataframe\">\n",
       "  <thead>\n",
       "    <tr style=\"text-align: right;\">\n",
       "      <th></th>\n",
       "      <th>old</th>\n",
       "      <th>new</th>\n",
       "      <th>deleted</th>\n",
       "      <th>added</th>\n",
       "    </tr>\n",
       "  </thead>\n",
       "  <tbody>\n",
       "    <tr>\n",
       "      <th>4412</th>\n",
       "      <td>является ли нарушением законодательства несоот...</td>\n",
       "      <td>является ли нарушением законодательства несоот...</td>\n",
       "      <td>его на и выполнение создания в пл отраженными</td>\n",
       "      <td>NaN</td>\n",
       "    </tr>\n",
       "    <tr>\n",
       "      <th>4413</th>\n",
       "      <td>является ли несовместное проживание с детьми п...</td>\n",
       "      <td>имеет ли право требовать пенсионный фонд при н...</td>\n",
       "      <td>отказа детьми поводом с в проживание является ...</td>\n",
       "      <td>назначении фонд имеет совместном право прожива...</td>\n",
       "    </tr>\n",
       "    <tr>\n",
       "      <th>4414</th>\n",
       "      <td>является ли объектами налогообложения налогом ...</td>\n",
       "      <td>пожарная сигнализация налог на имущество в 2019</td>\n",
       "      <td>и объектами видеонаблюдения ли система являетс...</td>\n",
       "      <td>налог</td>\n",
       "    </tr>\n",
       "    <tr>\n",
       "      <th>4415</th>\n",
       "      <td>является ли основанием для увольнения руководи...</td>\n",
       "      <td>типовая форма договора с руководителем федерал...</td>\n",
       "      <td>указанием увольнения задолженности ли автономн...</td>\n",
       "      <td>форма руководителем договора типовая</td>\n",
       "    </tr>\n",
       "    <tr>\n",
       "      <th>4416</th>\n",
       "      <td>#ERROR!</td>\n",
       "      <td>- ткань должна соответствовать требованиям ГОС...</td>\n",
       "      <td>NaN</td>\n",
       "      <td>ГОСТ 29298-2005 Ткани хлопчатобумажные и смеша...</td>\n",
       "    </tr>\n",
       "  </tbody>\n",
       "</table>\n",
       "</div>"
      ],
      "text/plain": [
       "                                                    old  \\\n",
       "4412  является ли нарушением законодательства несоот...   \n",
       "4413  является ли несовместное проживание с детьми п...   \n",
       "4414  является ли объектами налогообложения налогом ...   \n",
       "4415  является ли основанием для увольнения руководи...   \n",
       "4416                                            #ERROR!   \n",
       "\n",
       "                                                    new  \\\n",
       "4412  является ли нарушением законодательства несоот...   \n",
       "4413  имеет ли право требовать пенсионный фонд при н...   \n",
       "4414    пожарная сигнализация налог на имущество в 2019   \n",
       "4415  типовая форма договора с руководителем федерал...   \n",
       "4416  - ткань должна соответствовать требованиям ГОС...   \n",
       "\n",
       "                                                deleted  \\\n",
       "4412      его на и выполнение создания в пл отраженными   \n",
       "4413  отказа детьми поводом с в проживание является ...   \n",
       "4414  и объектами видеонаблюдения ли система являетс...   \n",
       "4415  указанием увольнения задолженности ли автономн...   \n",
       "4416                                                NaN   \n",
       "\n",
       "                                                  added  \n",
       "4412                                                NaN  \n",
       "4413  назначении фонд имеет совместном право прожива...  \n",
       "4414                                              налог  \n",
       "4415               форма руководителем договора типовая  \n",
       "4416  ГОСТ 29298-2005 Ткани хлопчатобумажные и смеша...  "
      ]
     },
     "execution_count": 5,
     "metadata": {},
     "output_type": "execute_result"
    }
   ],
   "source": [
    "queries_df = pd.read_csv('queries_fixed.csv', usecols=['нулевой запрос', 'успешный запрос', 'что выкинули', 'что добавили'])\n",
    "queries_df.columns = ['old', 'new', 'deleted', 'added']\n",
    "queries_df = queries_df[(queries_df['old'] == queries_df['old']) & (queries_df['new'] == queries_df['new'])]\n",
    "print(queries_df.shape)\n",
    "queries_df['old'] = queries_df['old'].apply(lambda sent: sent.strip())\n",
    "queries_df['new'] = queries_df['new'].apply(lambda sent: sent.strip())\n",
    "queries_df.tail()"
   ]
  },
  {
   "cell_type": "markdown",
   "metadata": {},
   "source": [
    "#### Cтоп-слова"
   ]
  },
  {
   "cell_type": "code",
   "execution_count": 6,
   "metadata": {},
   "outputs": [
    {
     "data": {
      "text/plain": [
       "336"
      ]
     },
     "execution_count": 6,
     "metadata": {},
     "output_type": "execute_result"
    }
   ],
   "source": [
    "exclude_words = []\n",
    "\n",
    "exclude_lines = open(\"exclude_words.txt\", \"r\", encoding='cp866').readlines()\n",
    "for line in exclude_lines:\n",
    "    line = line.replace('\\n', '')\n",
    "    line = line.split('=')[-1]\n",
    "    line = line.translate(str.maketrans('', '', string.punctuation))\n",
    "    #print(line)\n",
    "    exclude_words.extend(line.split())\n",
    "\n",
    "exclude_words = list(set(exclude_words))\n",
    "exclude_words = [word.lower() for word in exclude_words]\n",
    "len(exclude_words)"
   ]
  },
  {
   "cell_type": "markdown",
   "metadata": {},
   "source": [
    "#### Нормализуем запросы\n",
    "\n",
    "- norm_old\n",
    "- norm_new"
   ]
  },
  {
   "cell_type": "code",
   "execution_count": 7,
   "metadata": {},
   "outputs": [],
   "source": [
    "morph = pymorphy2.MorphAnalyzer()"
   ]
  },
  {
   "cell_type": "code",
   "execution_count": 8,
   "metadata": {},
   "outputs": [
    {
     "name": "stderr",
     "output_type": "stream",
     "text": [
      "100%|█████████████████████████████████████████████████████████████████████████████| 4410/4410 [00:25<00:00, 173.60it/s]\n"
     ]
    },
    {
     "data": {
      "text/html": [
       "<div>\n",
       "<style scoped>\n",
       "    .dataframe tbody tr th:only-of-type {\n",
       "        vertical-align: middle;\n",
       "    }\n",
       "\n",
       "    .dataframe tbody tr th {\n",
       "        vertical-align: top;\n",
       "    }\n",
       "\n",
       "    .dataframe thead th {\n",
       "        text-align: right;\n",
       "    }\n",
       "</style>\n",
       "<table border=\"1\" class=\"dataframe\">\n",
       "  <thead>\n",
       "    <tr style=\"text-align: right;\">\n",
       "      <th></th>\n",
       "      <th>old</th>\n",
       "      <th>new</th>\n",
       "      <th>deleted</th>\n",
       "      <th>added</th>\n",
       "      <th>norm_old</th>\n",
       "      <th>norm_new</th>\n",
       "    </tr>\n",
       "  </thead>\n",
       "  <tbody>\n",
       "    <tr>\n",
       "      <th>0</th>\n",
       "      <td>Постановление Правительства РМ16.02.2008 г № 7</td>\n",
       "      <td>Постановление Правительства РМ    от 16.02.200...</td>\n",
       "      <td>РМ16.02.2008</td>\n",
       "      <td>16.02.2008 РМ от</td>\n",
       "      <td>постановление правительство рм16022008 год 7</td>\n",
       "      <td>постановление правительство рм 16022008 год 7</td>\n",
       "    </tr>\n",
       "    <tr>\n",
       "      <th>1</th>\n",
       "      <td>Действующие тарифы на перевозку пассажиров, ру...</td>\n",
       "      <td>на перевозку пассажиров, ручной клади и живности</td>\n",
       "      <td>тарифы Действующие</td>\n",
       "      <td>NaN</td>\n",
       "      <td>действующий тариф перевозка пассажир ручной кл...</td>\n",
       "      <td>перевозка пассажир ручной класть живность</td>\n",
       "    </tr>\n",
       "    <tr>\n",
       "      <th>2</th>\n",
       "      <td>постановление  о  мерах  социальной  поддержки...</td>\n",
       "      <td>постановление  о  мерах  социальной  поддержки...</td>\n",
       "      <td>удмуртия</td>\n",
       "      <td>NaN</td>\n",
       "      <td>постановление мера социальный поддержка работн...</td>\n",
       "      <td>постановление мера социальный поддержка работн...</td>\n",
       "    </tr>\n",
       "    <tr>\n",
       "      <th>3</th>\n",
       "      <td>практические рекомендации  по организации внут...</td>\n",
       "      <td>практические рекомендации  по организации внут...</td>\n",
       "      <td>стоматология</td>\n",
       "      <td>NaN</td>\n",
       "      <td>практический рекомендация организация внутренн...</td>\n",
       "      <td>практический рекомендация организация внутренн...</td>\n",
       "    </tr>\n",
       "    <tr>\n",
       "      <th>4</th>\n",
       "      <td>РЕШЕНИЕ от 1 августа 2018 г. N 223ФЗ-556/18</td>\n",
       "      <td>N 18/44/105/918</td>\n",
       "      <td>РЕШЕНИЕ августа от 223ФЗ-556/18 2018 г. 1</td>\n",
       "      <td>18/44/105/918</td>\n",
       "      <td>решение 1 август 2018 год 223фз55618</td>\n",
       "      <td>1844105918</td>\n",
       "    </tr>\n",
       "  </tbody>\n",
       "</table>\n",
       "</div>"
      ],
      "text/plain": [
       "                                                 old  \\\n",
       "0     Постановление Правительства РМ16.02.2008 г № 7   \n",
       "1  Действующие тарифы на перевозку пассажиров, ру...   \n",
       "2  постановление  о  мерах  социальной  поддержки...   \n",
       "3  практические рекомендации  по организации внут...   \n",
       "4        РЕШЕНИЕ от 1 августа 2018 г. N 223ФЗ-556/18   \n",
       "\n",
       "                                                 new  \\\n",
       "0  Постановление Правительства РМ    от 16.02.200...   \n",
       "1   на перевозку пассажиров, ручной клади и живности   \n",
       "2  постановление  о  мерах  социальной  поддержки...   \n",
       "3  практические рекомендации  по организации внут...   \n",
       "4                                    N 18/44/105/918   \n",
       "\n",
       "                                     deleted             added  \\\n",
       "0                               РМ16.02.2008  16.02.2008 РМ от   \n",
       "1                         тарифы Действующие               NaN   \n",
       "2                                   удмуртия               NaN   \n",
       "3                               стоматология               NaN   \n",
       "4  РЕШЕНИЕ августа от 223ФЗ-556/18 2018 г. 1     18/44/105/918   \n",
       "\n",
       "                                            norm_old  \\\n",
       "0       постановление правительство рм16022008 год 7   \n",
       "1  действующий тариф перевозка пассажир ручной кл...   \n",
       "2  постановление мера социальный поддержка работн...   \n",
       "3  практический рекомендация организация внутренн...   \n",
       "4               решение 1 август 2018 год 223фз55618   \n",
       "\n",
       "                                            norm_new  \n",
       "0      постановление правительство рм 16022008 год 7  \n",
       "1          перевозка пассажир ручной класть живность  \n",
       "2  постановление мера социальный поддержка работн...  \n",
       "3  практический рекомендация организация внутренн...  \n",
       "4                                         1844105918  "
      ]
     },
     "execution_count": 8,
     "metadata": {},
     "output_type": "execute_result"
    }
   ],
   "source": [
    "all_norm_old = []\n",
    "all_norm_new = []\n",
    "\n",
    "for row in tqdm(queries_df.itertuples(), total=queries_df.shape[0]):\n",
    "    norm_old = ''\n",
    "    row_old = row.old.translate(str.maketrans('', '', string.punctuation))\n",
    "    for word in row_old.split():\n",
    "        this_normform = morph.parse(word)[0].normal_form\n",
    "        if this_normform.lower() not in exclude_words:\n",
    "            norm_old += this_normform + ' '\n",
    "    norm_old = norm_old[:-1]\n",
    "    all_norm_old.append(norm_old)\n",
    "        \n",
    "    norm_new = ''\n",
    "    row_new = row.new.translate(str.maketrans('', '', string.punctuation))\n",
    "    for word in row_new.split():\n",
    "        this_normform = morph.parse(word)[0].normal_form\n",
    "        if this_normform.lower() not in exclude_words:\n",
    "            norm_new += this_normform + ' '\n",
    "    norm_new = norm_new[:-1]\n",
    "    all_norm_new.append(norm_new)\n",
    "\n",
    "queries_df['norm_old'] = all_norm_old\n",
    "queries_df['norm_new'] = all_norm_new\n",
    "\n",
    "queries_df.head()"
   ]
  },
  {
   "cell_type": "markdown",
   "metadata": {},
   "source": [
    "Что получилось"
   ]
  },
  {
   "cell_type": "code",
   "execution_count": 9,
   "metadata": {
    "scrolled": true
   },
   "outputs": [
    {
     "data": {
      "text/plain": [
       "(8820,\n",
       " ['постановление правительство рм16022008 год 7',\n",
       "  'действующий тариф перевозка пассажир ручной класть живность',\n",
       "  'постановление мера социальный поддержка работник муниципальный учреждение удмуртия',\n",
       "  'практический рекомендация организация внутренний контроль качество безопасность медицинский деятельность медицинский организация стоматология',\n",
       "  'решение 1 август 2018 год 223фз55618',\n",
       "  'внесение постановление глава администрация губернатор краснодарский край 20 январь 2017 год 48 утверждение порядок сбор число раздельный твёрдый коммунальный отход краснодарский край',\n",
       "  '04052011 99фp',\n",
       "  '1151006 налоговый декларация налог прибыль 2019 место учёт учреждение оказывать социальный услуга',\n",
       "  '17 декабря№382 внесение',\n",
       "  '19032012 161523501 порядок заполнение граф 4 счетафактура'])"
      ]
     },
     "execution_count": 9,
     "metadata": {},
     "output_type": "execute_result"
    }
   ],
   "source": [
    "all_normforms = all_norm_old\n",
    "all_normforms.extend(all_norm_new)\n",
    "len(all_normforms), all_normforms[:10]"
   ]
  },
  {
   "cell_type": "markdown",
   "metadata": {},
   "source": [
    "### TF IDF"
   ]
  },
  {
   "cell_type": "code",
   "execution_count": 10,
   "metadata": {},
   "outputs": [
    {
     "data": {
      "text/plain": [
       "(8820, 9523)"
      ]
     },
     "execution_count": 10,
     "metadata": {},
     "output_type": "execute_result"
    }
   ],
   "source": [
    "cv = CountVectorizer()\n",
    "word_count_vector = cv.fit_transform(all_normforms)\n",
    "word_count_vector.shape"
   ]
  },
  {
   "cell_type": "code",
   "execution_count": 11,
   "metadata": {},
   "outputs": [
    {
     "data": {
      "text/plain": [
       "9523"
      ]
     },
     "execution_count": 11,
     "metadata": {},
     "output_type": "execute_result"
    }
   ],
   "source": [
    "word_count_vector1 = word_count_vector.copy()\n",
    "for i in range(73):\n",
    "    if i == 0:\n",
    "        word_freq_array = word_count_vector1[:10000].toarray().sum(axis=0)\n",
    "    else:\n",
    "        word_freq_array = np.vstack((word_freq_array,word_count_vector1[:10000].toarray().sum(axis=0)))\n",
    "    word_count_vector1 = word_count_vector1[10000:]\n",
    "all_word_freq = word_freq_array.sum(axis=0)\n",
    "len(all_word_freq)"
   ]
  },
  {
   "cell_type": "code",
   "execution_count": 12,
   "metadata": {},
   "outputs": [
    {
     "data": {
      "image/png": "[encoded data removed]",
      "text/plain": [
       "<Figure size 432x288 with 1 Axes>"
      ]
     },
     "metadata": {
      "needs_background": "light"
     },
     "output_type": "display_data"
    }
   ],
   "source": [
    "#распределение частот слов\n",
    "_=plt.hist(list(all_word_freq),range=[0,500],bins=50)"
   ]
  },
  {
   "cell_type": "code",
   "execution_count": 13,
   "metadata": {},
   "outputs": [
    {
     "data": {
      "text/plain": [
       "9523"
      ]
     },
     "execution_count": 13,
     "metadata": {},
     "output_type": "execute_result"
    }
   ],
   "source": [
    "words = cv.get_feature_names()\n",
    "len(words)"
   ]
  },
  {
   "cell_type": "code",
   "execution_count": 14,
   "metadata": {},
   "outputs": [],
   "source": [
    "tfidf_transformer = TfidfTransformer()\n",
    "tfidf_transformer.fit(word_count_vector)\n",
    "\n",
    "all_normforms_transformed = cv.transform(all_normforms)\n",
    "all_normforms_tfidf = tfidf_transformer.transform(all_normforms_transformed)"
   ]
  },
  {
   "cell_type": "code",
   "execution_count": 15,
   "metadata": {},
   "outputs": [
    {
     "data": {
      "text/plain": [
       "(9523,)"
      ]
     },
     "execution_count": 15,
     "metadata": {},
     "output_type": "execute_result"
    }
   ],
   "source": [
    "tfidf_transformer.idf_.shape"
   ]
  },
  {
   "cell_type": "code",
   "execution_count": 16,
   "metadata": {},
   "outputs": [
    {
     "data": {
      "text/plain": [
       "(8820, 9523)"
      ]
     },
     "execution_count": 16,
     "metadata": {},
     "output_type": "execute_result"
    }
   ],
   "source": [
    "all_normforms_tfidf.shape"
   ]
  },
  {
   "cell_type": "markdown",
   "metadata": {},
   "source": [
    "### word2vec\n"
   ]
  },
  {
   "cell_type": "code",
   "execution_count": 17,
   "metadata": {},
   "outputs": [],
   "source": [
    "sent_split = [nf.split() for nf in all_normforms]\n",
    "phrases = Phrases(sent_split, min_count=30)\n",
    "bigram = Phraser(phrases)\n",
    "sentences = bigram[sent_split]"
   ]
  },
  {
   "cell_type": "code",
   "execution_count": 18,
   "metadata": {},
   "outputs": [],
   "source": [
    "w2v = Word2Vec(min_count=1, # Ignores all words with total absolute frequency lower than this\n",
    "                     window=2,     # The maximum distance between the current and predicted word within a sentence.\n",
    "                     size=300,     # Dimensionality of the feature vectors.\n",
    "                     sample=6e-5,  # The threshold for configuring which higher-frequency words are randomly downsampled.\n",
    "                                   # Highly influencial.\n",
    "                     alpha=0.03,   # The initial learning rate\n",
    "                     min_alpha=0.0007, \n",
    "                     negative=0) # If > 0, negative sampling will be used, the int for negative specifies how many \"noise words\" should be drown.\n",
    "                                  # If set to 0, no negative sampling is used."
   ]
  },
  {
   "cell_type": "code",
   "execution_count": 19,
   "metadata": {},
   "outputs": [],
   "source": [
    "w2v.build_vocab(sentences)"
   ]
  },
  {
   "cell_type": "code",
   "execution_count": 20,
   "metadata": {},
   "outputs": [
    {
     "data": {
      "text/plain": [
       "(1108976, 1983270)"
      ]
     },
     "execution_count": 20,
     "metadata": {},
     "output_type": "execute_result"
    }
   ],
   "source": [
    "w2v.train(sentences, total_examples=w2v.corpus_count, # total_examples - Count of sentences\n",
    "                epochs=30, report_delay=1)"
   ]
  },
  {
   "cell_type": "code",
   "execution_count": 21,
   "metadata": {},
   "outputs": [],
   "source": [
    "# make the model more memory-efficient\n",
    "w2v.init_sims(replace=True)"
   ]
  },
  {
   "cell_type": "code",
   "execution_count": 22,
   "metadata": {},
   "outputs": [
    {
     "data": {
      "text/plain": [
       "9651"
      ]
     },
     "execution_count": 22,
     "metadata": {},
     "output_type": "execute_result"
    }
   ],
   "source": [
    "len(w2v.wv.vocab.items())"
   ]
  },
  {
   "cell_type": "code",
   "execution_count": 23,
   "metadata": {},
   "outputs": [
    {
     "data": {
      "text/plain": [
       "[('4тэр', 0.22023484110832214),\n",
       " ('мрот', 0.1957094520330429),\n",
       " ('авиарейс', 0.19348780810832977),\n",
       " ('ф09518110с3', 0.18779496848583221),\n",
       " ('автобус', 0.1875634491443634),\n",
       " ('попадать', 0.1866508275270462),\n",
       " ('307', 0.18638400733470917),\n",
       " ('№24н', 0.18506290018558502),\n",
       " ('конкретизация', 0.18186363577842712),\n",
       " ('4213330201', 0.18074911832809448)]"
      ]
     },
     "execution_count": 23,
     "metadata": {},
     "output_type": "execute_result"
    }
   ],
   "source": [
    "w2v.wv.most_similar(positive='кодекс')"
   ]
  },
  {
   "cell_type": "code",
   "execution_count": 24,
   "metadata": {},
   "outputs": [],
   "source": [
    "index2word_set = set(w2v.wv.index2word)\n",
    "\n",
    "# for sentences\n",
    "def avg_feature_vector(sentence, model, num_features, index2word_set):\n",
    "    words = sentence.split()\n",
    "    feature_vec = np.zeros((num_features, ), dtype='float32')\n",
    "    n_words = 0\n",
    "    for word in words:\n",
    "        if word in index2word_set:\n",
    "            n_words += 1\n",
    "            feature_vec = np.add(feature_vec, model[word])\n",
    "    if (n_words > 0):\n",
    "        feature_vec = np.divide(feature_vec, n_words)\n",
    "    return feature_vec"
   ]
  },
  {
   "cell_type": "code",
   "execution_count": 29,
   "metadata": {},
   "outputs": [],
   "source": [
    "# чем эта величина больше, тем сильнее различаются предложения\n",
    "def sentence_difference(sent1, sent2):\n",
    "    s1_afv = avg_feature_vector(sent1, model=w2v, num_features=300, index2word_set=index2word_set)\n",
    "    s2_afv = avg_feature_vector(sent2, model=w2v, num_features=300, index2word_set=index2word_set)\n",
    "    dif = spatial.distance.cosine(s1_afv, s2_afv)\n",
    "    return dif*10\n"
   ]
  },
  {
   "cell_type": "code",
   "execution_count": 30,
   "metadata": {},
   "outputs": [
    {
     "data": {
      "text/plain": [
       "2.782154679298401"
      ]
     },
     "execution_count": 30,
     "metadata": {},
     "output_type": "execute_result"
    }
   ],
   "source": [
    "sentence_difference('постановление правительство рм16.02.2008 год № 7',\n",
    "                    'постановление правительство рм16.02.2008')"
   ]
  },
  {
   "cell_type": "code",
   "execution_count": 31,
   "metadata": {},
   "outputs": [
    {
     "data": {
      "text/plain": [
       "8.700469732284546"
      ]
     },
     "execution_count": 31,
     "metadata": {},
     "output_type": "execute_result"
    }
   ],
   "source": [
    "sentence_difference('постановление правительство рм16.02.2008 год № 7',\n",
    "                    'постановление о мера социальный поддержка работник муниципальный учреждение удмуртия')"
   ]
  },
  {
   "cell_type": "code",
   "execution_count": 32,
   "metadata": {},
   "outputs": [
    {
     "data": {
      "text/plain": [
       "10.844635963439941"
      ]
     },
     "execution_count": 32,
     "metadata": {},
     "output_type": "execute_result"
    }
   ],
   "source": [
    "sentence_difference('постановление правительство рм16.02.2008 год № 7',\n",
    "                    'действующий тариф на перевозка пассажир ручной класть и живность')"
   ]
  },
  {
   "cell_type": "markdown",
   "metadata": {},
   "source": [
    "### Бинарные признаки\n",
    "\n",
    "- type\n",
    "- source\n",
    "- territory"
   ]
  },
  {
   "cell_type": "code",
   "execution_count": 33,
   "metadata": {},
   "outputs": [
    {
     "data": {
      "text/plain": [
       "347"
      ]
     },
     "execution_count": 33,
     "metadata": {},
     "output_type": "execute_result"
    }
   ],
   "source": [
    "type_words = []\n",
    "\n",
    "type_lines = open(\"type_words.txt\", \"r\", encoding='cp866').readlines()\n",
    "for line in type_lines:\n",
    "    line = line.replace('\\n', '')\n",
    "    line = line.split('=')[-1]\n",
    "    line = line.translate(str.maketrans('', '', string.punctuation))\n",
    "    #print(line)\n",
    "    type_words.extend(line.split())\n",
    "\n",
    "type_words = list(set(type_words))\n",
    "type_words = [word.lower() for word in type_words if len(word) > 2]\n",
    "len(type_words)"
   ]
  },
  {
   "cell_type": "code",
   "execution_count": 34,
   "metadata": {},
   "outputs": [
    {
     "data": {
      "text/plain": [
       "2290"
      ]
     },
     "execution_count": 34,
     "metadata": {},
     "output_type": "execute_result"
    }
   ],
   "source": [
    "source_words = []\n",
    "\n",
    "source_lines = open(\"source_words.txt\", \"r\", encoding='cp866').readlines()\n",
    "for line in source_lines:\n",
    "    line = line.replace('\\n', '')\n",
    "    line = line.split('=')[-1]\n",
    "    line = line.translate(str.maketrans('', '', string.punctuation))\n",
    "    source_words.extend(line.split())\n",
    "    \n",
    "source_words = list(set(source_words))\n",
    "source_words = [word.lower() for word in source_words if len(word) > 2]\n",
    "len(source_words)"
   ]
  },
  {
   "cell_type": "code",
   "execution_count": 35,
   "metadata": {},
   "outputs": [
    {
     "data": {
      "text/plain": [
       "258"
      ]
     },
     "execution_count": 35,
     "metadata": {},
     "output_type": "execute_result"
    }
   ],
   "source": [
    "terr_words = []\n",
    "\n",
    "terr_lines = open(\"territory_words.txt\", \"r\", encoding='cp866').readlines()\n",
    "for line in terr_lines:\n",
    "    line = line.replace('\\n', '')\n",
    "    line = line.split('=')[-1]\n",
    "    line = line.translate(str.maketrans('', '', string.punctuation))\n",
    "    terr_words.extend(line.split())\n",
    "    \n",
    "terr_words = list(set(terr_words))\n",
    "terr_words = [word.lower() for word in terr_words if len(word) > 2]\n",
    "len(terr_words)"
   ]
  },
  {
   "cell_type": "markdown",
   "metadata": {},
   "source": [
    "Пересечения списков слов"
   ]
  },
  {
   "cell_type": "code",
   "execution_count": 36,
   "metadata": {},
   "outputs": [
    {
     "name": "stdout",
     "output_type": "stream",
     "text": [
      "{'муниципальный'}\n"
     ]
    }
   ],
   "source": [
    "print(set.intersection(set(type_words), set(terr_words)))"
   ]
  },
  {
   "cell_type": "code",
   "execution_count": 37,
   "metadata": {
    "scrolled": true
   },
   "outputs": [
    {
     "name": "stdout",
     "output_type": "stream",
     "text": [
      "{'российского', 'практическая', 'строительстве', 'материалы', 'труда', 'журнал', 'материалов', 'правовой', 'цен', 'государственный', 'бухгалтерские', 'налоговая', 'республиканский', 'нормативные', 'федеральный', 'конституционный', 'бюллетень', 'работ', 'безопасности', 'законодательный', 'строительству', 'дорожная', 'законодательства', 'судебный', 'охране', 'уставный', 'правового'}\n"
     ]
    }
   ],
   "source": [
    "print(set.intersection(set(source_words), set(type_words)))"
   ]
  },
  {
   "cell_type": "code",
   "execution_count": 38,
   "metadata": {
    "scrolled": true
   },
   "outputs": [
    {
     "name": "stdout",
     "output_type": "stream",
     "text": [
      "{'хакасия', 'центральный', 'калмыкия', 'краснодарский', 'тыва', 'саха', 'область', 'еврейская', 'российская', 'красноярский', 'ставропольский', 'магаданская', 'курская', 'карелия', 'сахалинская', 'мордовия', 'северная', 'дагестан', 'республика', 'марий', 'якутия', 'комипермяцкий', 'устьордынский', 'алтайский', 'адыгея', 'кировский', 'алтай', 'таймырский', 'ненецкий', 'хабаровский', 'новая', 'бурятский', 'московская', 'округ', 'автономный', 'спб', 'ингушетия', 'осетияалания', 'агинский', 'башкортостан', 'чеченская', 'камчатский', 'федерация', 'корякский', 'чукотский', 'приморский', 'край', 'московский', 'коми', 'эвенкийский', 'татарстан', 'пермский', 'автономная', 'бурятия'}\n"
     ]
    }
   ],
   "source": [
    "print(set.intersection(set(source_words), set(terr_words)))"
   ]
  },
  {
   "cell_type": "markdown",
   "metadata": {},
   "source": [
    "##### Части речи"
   ]
  },
  {
   "cell_type": "code",
   "execution_count": 39,
   "metadata": {},
   "outputs": [],
   "source": [
    "def part_of_speech(word):\n",
    "    p = morph.parse(word)[0]\n",
    "    pos = p.tag.POS\n",
    "    \n",
    "    res = [0,0,0,0,0,0,0,0,0,0,0,0]\n",
    "    if pos == 'NOUN':\n",
    "        res = [1,0,0,0,0,0,0,0,0,0,0,0]\n",
    "    if pos == 'ADJF' or pos == 'ADJS':\n",
    "        res = [0,1,0,0,0,0,0,0,0,0,0,0]\n",
    "    if pos == 'COMP':\n",
    "        res = [0,0,1,0,0,0,0,0,0,0,0,0]\n",
    "    if pos == 'VERB':\n",
    "        res = [0,0,0,1,0,0,0,0,0,0,0,0]\n",
    "    if pos == 'INFN':\n",
    "        res = [0,0,0,0,1,0,0,0,0,0,0,0]\n",
    "    if pos == 'PRTF' or pos == 'PRTS':\n",
    "        res = [0,0,0,0,0,1,0,0,0,0,0,0]\n",
    "    if pos == 'GRND':\n",
    "        res = [0,0,0,0,0,0,1,0,0,0,0,0]\n",
    "    if pos == 'NUMR':\n",
    "        res = [0,0,0,0,0,0,0,1,0,0,0,0]\n",
    "    if pos == 'ADVB':\n",
    "        res = [0,0,0,0,0,0,0,0,1,0,0,0]\n",
    "    if pos == 'NPRO':\n",
    "        res = [0,0,0,0,0,0,0,0,0,1,0,0]\n",
    "    if pos == 'PRED':\n",
    "        res = [0,0,0,0,0,0,0,0,0,0,1,0]\n",
    "    if pos == 'PREP' or pos == 'CONJ' or pos == 'PRCL' or pos == 'INTJ':\n",
    "        res = [0,0,0,0,0,0,0,0,0,0,0,1]\n",
    "        \n",
    "    return res"
   ]
  },
  {
   "cell_type": "markdown",
   "metadata": {},
   "source": [
    "### final data table"
   ]
  },
  {
   "cell_type": "code",
   "execution_count": 40,
   "metadata": {},
   "outputs": [
    {
     "data": {
      "text/plain": [
       "True"
      ]
     },
     "execution_count": 40,
     "metadata": {},
     "output_type": "execute_result"
    }
   ],
   "source": [
    "feature_names = cv.get_feature_names()\n",
    "'постановление' in feature_names"
   ]
  },
  {
   "cell_type": "code",
   "execution_count": 41,
   "metadata": {},
   "outputs": [
    {
     "data": {
      "text/plain": [
       "9523"
      ]
     },
     "execution_count": 41,
     "metadata": {},
     "output_type": "execute_result"
    }
   ],
   "source": [
    "len(feature_names)"
   ]
  },
  {
   "cell_type": "code",
   "execution_count": 42,
   "metadata": {},
   "outputs": [
    {
     "name": "stderr",
     "output_type": "stream",
     "text": [
      "100%|█████████████████████████████████████████████████████████████████████████████| 4410/4410 [00:40<00:00, 110.12it/s]\n"
     ]
    }
   ],
   "source": [
    "word_features_table = []\n",
    "part_of_speech_col = []\n",
    "row_names_list = []\n",
    "Y = []\n",
    "\n",
    "for it, q_row in tqdm(queries_df.iterrows(), total=queries_df.shape[0]):\n",
    "    old = q_row.old\n",
    "    new = q_row.new\n",
    "    deleted = [word for word in old.split() if word not in new.split()]\n",
    "    \n",
    "    tfidf_row = pd.DataFrame(all_normforms_tfidf[it].T.todense(), index=feature_names, columns=[\"tfidf\"])\n",
    "    #print(tfidf_row)\n",
    "    for word in old.split():\n",
    "        row_names_list.append(word+'_'+str(it)+'_'+old) # row name\n",
    "            \n",
    "        Y.append(1 if word in deleted else 0) # Y\n",
    "            \n",
    "        features_row = []\n",
    "        \n",
    "        try:\n",
    "            features_row.append(tfidf_row.loc[word.lower()].tolist()[0]) # tfidf\n",
    "        except:\n",
    "            features_row.append(0)\n",
    "            \n",
    "        try:\n",
    "            features_row.append(idf_df.loc[word.lower()].tolist()[0]) # idf\n",
    "        except:\n",
    "            features_row.append(0)\n",
    "            \n",
    "        features_row.append(sentence_difference(old, old.replace(word, '').replace('  ', ' '))) # w2v_imp\n",
    "            \n",
    "        features_row.append(word.lower() in type_words) # type\n",
    "        features_row.append(word.lower() in source_words) # source\n",
    "        features_row.append(word.lower() in terr_words) # territory\n",
    "            \n",
    "        features_row.append(str(word).lower().isdigit()) # only digits\n",
    "        features_row.append(str(word).lower().isalpha()) # only letters\n",
    "        features_row.append(str(word).lower().isalnum()) # only letters and digits (no symbols)\n",
    "        \n",
    "        features_row.append(len(old.split())) # N of words in sentence\n",
    "            \n",
    "        part_of_speech_col.append(part_of_speech(word)) # part of speech (12 columns)\n",
    "        \n",
    "        word_features_table.append(features_row)\n",
    "    \n",
    "word_features_df = pd.DataFrame(word_features_table, index=row_names_list,\n",
    "                                columns=['tfidf', 'idf', 'w2v_imp', 'type', 'source', 'terr',\n",
    "                                        'digit', 'letter', 'no_sym', 'sent_len']\n",
    "                               ).fillna(0)\n",
    "part_of_speech_df = pd.DataFrame(part_of_speech_col, index=row_names_list,\n",
    "                    columns=['NOUN','ADJ','COMP','VERB','INFN','PRT','GRND','NUMR','ADVB','NPRO','PRED', 'OTHER_POS'])"
   ]
  },
  {
   "cell_type": "code",
   "execution_count": 43,
   "metadata": {},
   "outputs": [
    {
     "name": "stdout",
     "output_type": "stream",
     "text": [
      "(57053, 22)\n"
     ]
    },
    {
     "data": {
      "text/html": [
       "<div>\n",
       "<style scoped>\n",
       "    .dataframe tbody tr th:only-of-type {\n",
       "        vertical-align: middle;\n",
       "    }\n",
       "\n",
       "    .dataframe tbody tr th {\n",
       "        vertical-align: top;\n",
       "    }\n",
       "\n",
       "    .dataframe thead th {\n",
       "        text-align: right;\n",
       "    }\n",
       "</style>\n",
       "<table border=\"1\" class=\"dataframe\">\n",
       "  <thead>\n",
       "    <tr style=\"text-align: right;\">\n",
       "      <th></th>\n",
       "      <th>tfidf</th>\n",
       "      <th>idf</th>\n",
       "      <th>w2v_imp</th>\n",
       "      <th>type</th>\n",
       "      <th>source</th>\n",
       "      <th>terr</th>\n",
       "      <th>digit</th>\n",
       "      <th>letter</th>\n",
       "      <th>no_sym</th>\n",
       "      <th>sent_len</th>\n",
       "      <th>...</th>\n",
       "      <th>COMP</th>\n",
       "      <th>VERB</th>\n",
       "      <th>INFN</th>\n",
       "      <th>PRT</th>\n",
       "      <th>GRND</th>\n",
       "      <th>NUMR</th>\n",
       "      <th>ADVB</th>\n",
       "      <th>NPRO</th>\n",
       "      <th>PRED</th>\n",
       "      <th>OTHER_POS</th>\n",
       "    </tr>\n",
       "  </thead>\n",
       "  <tbody>\n",
       "    <tr>\n",
       "      <th>Постановление_0_Постановление Правительства РМ16.02.2008 г № 7</th>\n",
       "      <td>0.303353</td>\n",
       "      <td>0</td>\n",
       "      <td>0.0</td>\n",
       "      <td>True</td>\n",
       "      <td>False</td>\n",
       "      <td>False</td>\n",
       "      <td>False</td>\n",
       "      <td>True</td>\n",
       "      <td>True</td>\n",
       "      <td>6</td>\n",
       "      <td>...</td>\n",
       "      <td>0</td>\n",
       "      <td>0</td>\n",
       "      <td>0</td>\n",
       "      <td>0</td>\n",
       "      <td>0</td>\n",
       "      <td>0</td>\n",
       "      <td>0</td>\n",
       "      <td>0</td>\n",
       "      <td>0</td>\n",
       "      <td>0</td>\n",
       "    </tr>\n",
       "    <tr>\n",
       "      <th>Правительства_0_Постановление Правительства РМ16.02.2008 г № 7</th>\n",
       "      <td>0.000000</td>\n",
       "      <td>0</td>\n",
       "      <td>0.0</td>\n",
       "      <td>False</td>\n",
       "      <td>True</td>\n",
       "      <td>False</td>\n",
       "      <td>False</td>\n",
       "      <td>True</td>\n",
       "      <td>True</td>\n",
       "      <td>6</td>\n",
       "      <td>...</td>\n",
       "      <td>0</td>\n",
       "      <td>0</td>\n",
       "      <td>0</td>\n",
       "      <td>0</td>\n",
       "      <td>0</td>\n",
       "      <td>0</td>\n",
       "      <td>0</td>\n",
       "      <td>0</td>\n",
       "      <td>0</td>\n",
       "      <td>0</td>\n",
       "    </tr>\n",
       "    <tr>\n",
       "      <th>РМ16.02.2008_0_Постановление Правительства РМ16.02.2008 г № 7</th>\n",
       "      <td>0.000000</td>\n",
       "      <td>0</td>\n",
       "      <td>0.0</td>\n",
       "      <td>False</td>\n",
       "      <td>False</td>\n",
       "      <td>False</td>\n",
       "      <td>False</td>\n",
       "      <td>False</td>\n",
       "      <td>False</td>\n",
       "      <td>6</td>\n",
       "      <td>...</td>\n",
       "      <td>0</td>\n",
       "      <td>0</td>\n",
       "      <td>0</td>\n",
       "      <td>0</td>\n",
       "      <td>0</td>\n",
       "      <td>0</td>\n",
       "      <td>0</td>\n",
       "      <td>0</td>\n",
       "      <td>0</td>\n",
       "      <td>0</td>\n",
       "    </tr>\n",
       "    <tr>\n",
       "      <th>г_0_Постановление Правительства РМ16.02.2008 г № 7</th>\n",
       "      <td>0.000000</td>\n",
       "      <td>0</td>\n",
       "      <td>0.0</td>\n",
       "      <td>False</td>\n",
       "      <td>False</td>\n",
       "      <td>False</td>\n",
       "      <td>False</td>\n",
       "      <td>True</td>\n",
       "      <td>True</td>\n",
       "      <td>6</td>\n",
       "      <td>...</td>\n",
       "      <td>0</td>\n",
       "      <td>0</td>\n",
       "      <td>0</td>\n",
       "      <td>0</td>\n",
       "      <td>0</td>\n",
       "      <td>0</td>\n",
       "      <td>0</td>\n",
       "      <td>0</td>\n",
       "      <td>0</td>\n",
       "      <td>0</td>\n",
       "    </tr>\n",
       "    <tr>\n",
       "      <th>№_0_Постановление Правительства РМ16.02.2008 г № 7</th>\n",
       "      <td>0.000000</td>\n",
       "      <td>0</td>\n",
       "      <td>0.0</td>\n",
       "      <td>False</td>\n",
       "      <td>False</td>\n",
       "      <td>False</td>\n",
       "      <td>False</td>\n",
       "      <td>False</td>\n",
       "      <td>False</td>\n",
       "      <td>6</td>\n",
       "      <td>...</td>\n",
       "      <td>0</td>\n",
       "      <td>0</td>\n",
       "      <td>0</td>\n",
       "      <td>0</td>\n",
       "      <td>0</td>\n",
       "      <td>0</td>\n",
       "      <td>0</td>\n",
       "      <td>0</td>\n",
       "      <td>0</td>\n",
       "      <td>0</td>\n",
       "    </tr>\n",
       "  </tbody>\n",
       "</table>\n",
       "<p>5 rows × 22 columns</p>\n",
       "</div>"
      ],
      "text/plain": [
       "                                                       tfidf  idf  w2v_imp  \\\n",
       "Постановление_0_Постановление Правительства РМ1...  0.303353    0      0.0   \n",
       "Правительства_0_Постановление Правительства РМ1...  0.000000    0      0.0   \n",
       "РМ16.02.2008_0_Постановление Правительства РМ16...  0.000000    0      0.0   \n",
       "г_0_Постановление Правительства РМ16.02.2008 г № 7  0.000000    0      0.0   \n",
       "№_0_Постановление Правительства РМ16.02.2008 г № 7  0.000000    0      0.0   \n",
       "\n",
       "                                                     type  source   terr  \\\n",
       "Постановление_0_Постановление Правительства РМ1...   True   False  False   \n",
       "Правительства_0_Постановление Правительства РМ1...  False    True  False   \n",
       "РМ16.02.2008_0_Постановление Правительства РМ16...  False   False  False   \n",
       "г_0_Постановление Правительства РМ16.02.2008 г № 7  False   False  False   \n",
       "№_0_Постановление Правительства РМ16.02.2008 г № 7  False   False  False   \n",
       "\n",
       "                                                    digit  letter  no_sym  \\\n",
       "Постановление_0_Постановление Правительства РМ1...  False    True    True   \n",
       "Правительства_0_Постановление Правительства РМ1...  False    True    True   \n",
       "РМ16.02.2008_0_Постановление Правительства РМ16...  False   False   False   \n",
       "г_0_Постановление Правительства РМ16.02.2008 г № 7  False    True    True   \n",
       "№_0_Постановление Правительства РМ16.02.2008 г № 7  False   False   False   \n",
       "\n",
       "                                                    sent_len  ...  COMP  VERB  \\\n",
       "Постановление_0_Постановление Правительства РМ1...         6  ...     0     0   \n",
       "Правительства_0_Постановление Правительства РМ1...         6  ...     0     0   \n",
       "РМ16.02.2008_0_Постановление Правительства РМ16...         6  ...     0     0   \n",
       "г_0_Постановление Правительства РМ16.02.2008 г № 7         6  ...     0     0   \n",
       "№_0_Постановление Правительства РМ16.02.2008 г № 7         6  ...     0     0   \n",
       "\n",
       "                                                    INFN  PRT  GRND  NUMR  \\\n",
       "Постановление_0_Постановление Правительства РМ1...     0    0     0     0   \n",
       "Правительства_0_Постановление Правительства РМ1...     0    0     0     0   \n",
       "РМ16.02.2008_0_Постановление Правительства РМ16...     0    0     0     0   \n",
       "г_0_Постановление Правительства РМ16.02.2008 г № 7     0    0     0     0   \n",
       "№_0_Постановление Правительства РМ16.02.2008 г № 7     0    0     0     0   \n",
       "\n",
       "                                                    ADVB  NPRO  PRED  \\\n",
       "Постановление_0_Постановление Правительства РМ1...     0     0     0   \n",
       "Правительства_0_Постановление Правительства РМ1...     0     0     0   \n",
       "РМ16.02.2008_0_Постановление Правительства РМ16...     0     0     0   \n",
       "г_0_Постановление Правительства РМ16.02.2008 г № 7     0     0     0   \n",
       "№_0_Постановление Правительства РМ16.02.2008 г № 7     0     0     0   \n",
       "\n",
       "                                                    OTHER_POS  \n",
       "Постановление_0_Постановление Правительства РМ1...          0  \n",
       "Правительства_0_Постановление Правительства РМ1...          0  \n",
       "РМ16.02.2008_0_Постановление Правительства РМ16...          0  \n",
       "г_0_Постановление Правительства РМ16.02.2008 г № 7          0  \n",
       "№_0_Постановление Правительства РМ16.02.2008 г № 7          0  \n",
       "\n",
       "[5 rows x 22 columns]"
      ]
     },
     "execution_count": 43,
     "metadata": {},
     "output_type": "execute_result"
    }
   ],
   "source": [
    "word_features_df = pd.concat([word_features_df, part_of_speech_df], axis=1)\n",
    "\n",
    "print(word_features_df.shape)\n",
    "word_features_df.head()"
   ]
  },
  {
   "cell_type": "markdown",
   "metadata": {},
   "source": [
    "### Обучим модель"
   ]
  },
  {
   "cell_type": "code",
   "execution_count": 44,
   "metadata": {},
   "outputs": [
    {
     "data": {
      "text/plain": [
       "((51347, 22), (5706, 22), 51347, 5706)"
      ]
     },
     "execution_count": 44,
     "metadata": {},
     "output_type": "execute_result"
    }
   ],
   "source": [
    "X_train, X_test, y_train, y_test = train_test_split(word_features_df, Y, test_size=0.1, random_state=15)\n",
    "\n",
    "X_train.shape, X_test.shape, len(y_train), len(y_test)"
   ]
  },
  {
   "cell_type": "code",
   "execution_count": 45,
   "metadata": {},
   "outputs": [
    {
     "data": {
      "text/plain": [
       "RandomForestClassifier()"
      ]
     },
     "execution_count": 45,
     "metadata": {},
     "output_type": "execute_result"
    }
   ],
   "source": [
    "rf = RandomForestClassifier()\n",
    "rf.fit(X_train, y_train)"
   ]
  },
  {
   "cell_type": "code",
   "execution_count": 46,
   "metadata": {},
   "outputs": [],
   "source": [
    "y_pred = rf.predict(X_test)"
   ]
  },
  {
   "cell_type": "code",
   "execution_count": 47,
   "metadata": {},
   "outputs": [
    {
     "data": {
      "text/plain": [
       "array([[1761, 1047],\n",
       "       [1228, 1670]], dtype=int64)"
      ]
     },
     "execution_count": 47,
     "metadata": {},
     "output_type": "execute_result"
    }
   ],
   "source": [
    "confusion_matrix(y_test, y_pred)"
   ]
  },
  {
   "cell_type": "markdown",
   "metadata": {},
   "source": [
    "### Сохраним веса модели"
   ]
  },
  {
   "cell_type": "code",
   "execution_count": 48,
   "metadata": {},
   "outputs": [
    {
     "data": {
      "text/plain": [
       "['model\\\\savedweights_30.07.2020.joblib.pkl']"
      ]
     },
     "execution_count": 48,
     "metadata": {},
     "output_type": "execute_result"
    }
   ],
   "source": [
    "joblib.dump(rf, 'model\\savedweights_30.07.2020.joblib.pkl', compress=9)"
   ]
  },
  {
   "cell_type": "markdown",
   "metadata": {},
   "source": [
    "### Посмотрим, что получилось"
   ]
  },
  {
   "cell_type": "code",
   "execution_count": 49,
   "metadata": {},
   "outputs": [],
   "source": [
    "y_pred_proba = rf.predict_proba(word_features_df)\n",
    "y_pred_proba = y_pred_proba[:,1]"
   ]
  },
  {
   "cell_type": "code",
   "execution_count": 50,
   "metadata": {},
   "outputs": [],
   "source": [
    "result_dict_proba = {}\n",
    "for j, query in enumerate(word_features_df.index):\n",
    "    splitted = query.split('_')\n",
    "    word = splitted[0]\n",
    "    N = splitted[1]\n",
    "    sent = ''\n",
    "    for part in splitted[2:]:\n",
    "        sent += part\n",
    "        \n",
    "    proba = y_pred_proba[j]\n",
    "    try:\n",
    "        N = int(N)\n",
    "        if N not in result_dict_proba.keys():\n",
    "            result_dict_proba[N] = {'query':sent, 'words':{word:proba}}\n",
    "        else:\n",
    "            result_dict_proba[N]['words'].update({word:proba})\n",
    "    except:\n",
    "        pass"
   ]
  },
  {
   "cell_type": "code",
   "execution_count": 47,
   "metadata": {},
   "outputs": [],
   "source": [
    "# output probabilities file\n",
    "\n",
    "#with open('result.txt', 'w', encoding='cp866') as file:\n",
    "#     file.write(str(result_dict_proba))"
   ]
  },
  {
   "cell_type": "code",
   "execution_count": 68,
   "metadata": {},
   "outputs": [],
   "source": [
    "# nice-looking output probabilities file\n",
    "\n",
    "res_txt = ''\n",
    "for N in result_dict_proba.keys():\n",
    "    dict_= result_dict_proba[N]\n",
    "    res_txt += dict_['query'] + '\\n\\n'\n",
    "    \n",
    "    ordered_by_prob = sorted(dict_['words'], key=lambda x:dict_['words'][x], reverse=True)\n",
    "    #print(ordered_by_prob)\n",
    "    for key in ordered_by_prob:\n",
    "        res_txt += '\\t'+\"{:.3f}\".format(dict_['words'][key])+' - '+ str(key) + '\\n'\n",
    "    res_txt += '\\n'\n",
    "    \n",
    "with open('pretty_result.txt', 'w', encoding='cp866') as file:\n",
    "     file.write(res_txt)"
   ]
  },
  {
   "cell_type": "markdown",
   "metadata": {},
   "source": [
    "## Запускаем на новых данных"
   ]
  },
  {
   "cell_type": "code",
   "execution_count": 242,
   "metadata": {},
   "outputs": [
    {
     "data": {
      "text/plain": [
       "(92140, 2)"
      ]
     },
     "execution_count": 242,
     "metadata": {},
     "output_type": "execute_result"
    }
   ],
   "source": [
    "data = pd.read_csv('2020_07.txt', sep=';0', header=None).dropna()\n",
    "data.columns = ['user', 'query']\n",
    "data['query'] = data['query'].apply(lambda x: x.replace('\\t', '').strip())\n",
    "data = data[0:92140]\n",
    "data.shape"
   ]
  },
  {
   "cell_type": "code",
   "execution_count": 243,
   "metadata": {
    "scrolled": true
   },
   "outputs": [
    {
     "data": {
      "text/html": [
       "<div>\n",
       "<style scoped>\n",
       "    .dataframe tbody tr th:only-of-type {\n",
       "        vertical-align: middle;\n",
       "    }\n",
       "\n",
       "    .dataframe tbody tr th {\n",
       "        vertical-align: top;\n",
       "    }\n",
       "\n",
       "    .dataframe thead th {\n",
       "        text-align: right;\n",
       "    }\n",
       "</style>\n",
       "<table border=\"1\" class=\"dataframe\">\n",
       "  <thead>\n",
       "    <tr style=\"text-align: right;\">\n",
       "      <th></th>\n",
       "      <th>user</th>\n",
       "      <th>query</th>\n",
       "    </tr>\n",
       "  </thead>\n",
       "  <tbody>\n",
       "    <tr>\n",
       "      <th>0</th>\n",
       "      <td>ilvov@vodchits.ru</td>\n",
       "      <td>реального руководителя должника и бенефициара ...</td>\n",
       "    </tr>\n",
       "    <tr>\n",
       "      <th>1</th>\n",
       "      <td>ilvov@vodchits.ru</td>\n",
       "      <td>реального руководителя должника и бенефициара ...</td>\n",
       "    </tr>\n",
       "    <tr>\n",
       "      <th>2</th>\n",
       "      <td>ilvov@vodchits.ru</td>\n",
       "      <td>фактического бенефициара  Вышегородцева П.Д. .</td>\n",
       "    </tr>\n",
       "    <tr>\n",
       "      <th>3</th>\n",
       "      <td>Victoria.Noskova1@pepsico.com</td>\n",
       "      <td>вправе ли суд назначить экспертизу в результат...</td>\n",
       "    </tr>\n",
       "    <tr>\n",
       "      <th>4</th>\n",
       "      <td>kiseleva@adk22.ru</td>\n",
       "      <td>| сырьевые товары по кодам ntd-l</td>\n",
       "    </tr>\n",
       "  </tbody>\n",
       "</table>\n",
       "</div>"
      ],
      "text/plain": [
       "                            user  \\\n",
       "0              ilvov@vodchits.ru   \n",
       "1              ilvov@vodchits.ru   \n",
       "2              ilvov@vodchits.ru   \n",
       "3  Victoria.Noskova1@pepsico.com   \n",
       "4              kiseleva@adk22.ru   \n",
       "\n",
       "                                               query  \n",
       "0  реального руководителя должника и бенефициара ...  \n",
       "1  реального руководителя должника и бенефициара ...  \n",
       "2     фактического бенефициара  Вышегородцева П.Д. .  \n",
       "3  вправе ли суд назначить экспертизу в результат...  \n",
       "4                   | сырьевые товары по кодам ntd-l  "
      ]
     },
     "execution_count": 243,
     "metadata": {},
     "output_type": "execute_result"
    }
   ],
   "source": [
    "data.head()"
   ]
  },
  {
   "cell_type": "code",
   "execution_count": 244,
   "metadata": {},
   "outputs": [
    {
     "name": "stderr",
     "output_type": "stream",
     "text": [
      "100%|███████████████████████████████████████████████████████████████████████████| 92140/92140 [04:21<00:00, 352.79it/s]\n"
     ]
    }
   ],
   "source": [
    "# нормализуем\n",
    "\n",
    "all_norm = []\n",
    "for row in tqdm(data.itertuples(), total=data.shape[0]):\n",
    "    norm = ''\n",
    "    row = row.query.translate(str.maketrans('', '', string.punctuation))\n",
    "    for word in row.split():\n",
    "        this_normform = morph.parse(word)[0].normal_form\n",
    "        if this_normform.lower() not in exclude_words:\n",
    "            norm += this_normform + ' '\n",
    "    norm = norm[:-1]\n",
    "    all_norm.append(norm)\n",
    "    \n",
    "data['norm'] = all_norm"
   ]
  },
  {
   "cell_type": "code",
   "execution_count": 245,
   "metadata": {},
   "outputs": [],
   "source": [
    "count_vector = cv.transform(all_norm)\n",
    "all_normforms_transformed = cv.transform(all_norm)\n",
    "all_normforms_tfidf = tfidf_transformer.transform(all_normforms_transformed)"
   ]
  },
  {
   "cell_type": "code",
   "execution_count": 246,
   "metadata": {},
   "outputs": [
    {
     "name": "stderr",
     "output_type": "stream",
     "text": [
      "100%|██████████████████████████████████████████████████████████████████████████▉| 92138/92140 [05:44<00:00, 267.67it/s]\n"
     ]
    },
    {
     "ename": "IndexError",
     "evalue": "row index (92140) out of range",
     "output_type": "error",
     "traceback": [
      "\u001b[1;31m---------------------------------------------------------------------------\u001b[0m",
      "\u001b[1;31mIndexError\u001b[0m                                Traceback (most recent call last)",
      "\u001b[1;32m<ipython-input-246-21c95beaa11e>\u001b[0m in \u001b[0;36m<module>\u001b[1;34m\u001b[0m\n\u001b[0;32m      7\u001b[0m     \u001b[0mold\u001b[0m \u001b[1;33m=\u001b[0m \u001b[0mq_row\u001b[0m\u001b[1;33m.\u001b[0m\u001b[0mquery\u001b[0m\u001b[1;33m\u001b[0m\u001b[1;33m\u001b[0m\u001b[0m\n\u001b[0;32m      8\u001b[0m \u001b[1;33m\u001b[0m\u001b[0m\n\u001b[1;32m----> 9\u001b[1;33m     \u001b[0mtfidf_row\u001b[0m \u001b[1;33m=\u001b[0m \u001b[0mpd\u001b[0m\u001b[1;33m.\u001b[0m\u001b[0mDataFrame\u001b[0m\u001b[1;33m(\u001b[0m\u001b[0mall_normforms_tfidf\u001b[0m\u001b[1;33m[\u001b[0m\u001b[0mit\u001b[0m\u001b[1;33m]\u001b[0m\u001b[1;33m.\u001b[0m\u001b[0mT\u001b[0m\u001b[1;33m.\u001b[0m\u001b[0mtodense\u001b[0m\u001b[1;33m(\u001b[0m\u001b[1;33m)\u001b[0m\u001b[1;33m,\u001b[0m \u001b[0mindex\u001b[0m\u001b[1;33m=\u001b[0m\u001b[0mfeature_names\u001b[0m\u001b[1;33m,\u001b[0m \u001b[0mcolumns\u001b[0m\u001b[1;33m=\u001b[0m\u001b[1;33m[\u001b[0m\u001b[1;34m\"tfidf\"\u001b[0m\u001b[1;33m]\u001b[0m\u001b[1;33m)\u001b[0m\u001b[1;33m\u001b[0m\u001b[1;33m\u001b[0m\u001b[0m\n\u001b[0m\u001b[0;32m     10\u001b[0m     \u001b[1;31m#print(tfidf_row)\u001b[0m\u001b[1;33m\u001b[0m\u001b[1;33m\u001b[0m\u001b[1;33m\u001b[0m\u001b[0m\n\u001b[0;32m     11\u001b[0m \u001b[1;33m\u001b[0m\u001b[0m\n",
      "\u001b[1;32m~\\AppData\\Local\\Programs\\Python\\Python38-32\\lib\\site-packages\\scipy\\sparse\\_index.py\u001b[0m in \u001b[0;36m__getitem__\u001b[1;34m(self, key)\u001b[0m\n\u001b[0;32m     33\u001b[0m     \"\"\"\n\u001b[0;32m     34\u001b[0m     \u001b[1;32mdef\u001b[0m \u001b[0m__getitem__\u001b[0m\u001b[1;33m(\u001b[0m\u001b[0mself\u001b[0m\u001b[1;33m,\u001b[0m \u001b[0mkey\u001b[0m\u001b[1;33m)\u001b[0m\u001b[1;33m:\u001b[0m\u001b[1;33m\u001b[0m\u001b[1;33m\u001b[0m\u001b[0m\n\u001b[1;32m---> 35\u001b[1;33m         \u001b[0mrow\u001b[0m\u001b[1;33m,\u001b[0m \u001b[0mcol\u001b[0m \u001b[1;33m=\u001b[0m \u001b[0mself\u001b[0m\u001b[1;33m.\u001b[0m\u001b[0m_validate_indices\u001b[0m\u001b[1;33m(\u001b[0m\u001b[0mkey\u001b[0m\u001b[1;33m)\u001b[0m\u001b[1;33m\u001b[0m\u001b[1;33m\u001b[0m\u001b[0m\n\u001b[0m\u001b[0;32m     36\u001b[0m         \u001b[1;31m# Dispatch to specialized methods.\u001b[0m\u001b[1;33m\u001b[0m\u001b[1;33m\u001b[0m\u001b[1;33m\u001b[0m\u001b[0m\n\u001b[0;32m     37\u001b[0m         \u001b[1;32mif\u001b[0m \u001b[0misinstance\u001b[0m\u001b[1;33m(\u001b[0m\u001b[0mrow\u001b[0m\u001b[1;33m,\u001b[0m \u001b[0mINT_TYPES\u001b[0m\u001b[1;33m)\u001b[0m\u001b[1;33m:\u001b[0m\u001b[1;33m\u001b[0m\u001b[1;33m\u001b[0m\u001b[0m\n",
      "\u001b[1;32m~\\AppData\\Local\\Programs\\Python\\Python38-32\\lib\\site-packages\\scipy\\sparse\\_index.py\u001b[0m in \u001b[0;36m_validate_indices\u001b[1;34m(self, key)\u001b[0m\n\u001b[0;32m    133\u001b[0m             \u001b[0mrow\u001b[0m \u001b[1;33m=\u001b[0m \u001b[0mint\u001b[0m\u001b[1;33m(\u001b[0m\u001b[0mrow\u001b[0m\u001b[1;33m)\u001b[0m\u001b[1;33m\u001b[0m\u001b[1;33m\u001b[0m\u001b[0m\n\u001b[0;32m    134\u001b[0m             \u001b[1;32mif\u001b[0m \u001b[0mrow\u001b[0m \u001b[1;33m<\u001b[0m \u001b[1;33m-\u001b[0m\u001b[0mM\u001b[0m \u001b[1;32mor\u001b[0m \u001b[0mrow\u001b[0m \u001b[1;33m>=\u001b[0m \u001b[0mM\u001b[0m\u001b[1;33m:\u001b[0m\u001b[1;33m\u001b[0m\u001b[1;33m\u001b[0m\u001b[0m\n\u001b[1;32m--> 135\u001b[1;33m                 \u001b[1;32mraise\u001b[0m \u001b[0mIndexError\u001b[0m\u001b[1;33m(\u001b[0m\u001b[1;34m'row index (%d) out of range'\u001b[0m \u001b[1;33m%\u001b[0m \u001b[0mrow\u001b[0m\u001b[1;33m)\u001b[0m\u001b[1;33m\u001b[0m\u001b[1;33m\u001b[0m\u001b[0m\n\u001b[0m\u001b[0;32m    136\u001b[0m             \u001b[1;32mif\u001b[0m \u001b[0mrow\u001b[0m \u001b[1;33m<\u001b[0m \u001b[1;36m0\u001b[0m\u001b[1;33m:\u001b[0m\u001b[1;33m\u001b[0m\u001b[1;33m\u001b[0m\u001b[0m\n\u001b[0;32m    137\u001b[0m                 \u001b[0mrow\u001b[0m \u001b[1;33m+=\u001b[0m \u001b[0mM\u001b[0m\u001b[1;33m\u001b[0m\u001b[1;33m\u001b[0m\u001b[0m\n",
      "\u001b[1;31mIndexError\u001b[0m: row index (92140) out of range"
     ]
    }
   ],
   "source": [
    "# final table\n",
    "\n",
    "features_table = []\n",
    "names_list = []\n",
    "\n",
    "for it, q_row in tqdm(data.iterrows(), total=data.shape[0]):\n",
    "    old = q_row.query\n",
    "    \n",
    "    tfidf_row = pd.DataFrame(all_normforms_tfidf[it].T.todense(), index=feature_names, columns=[\"tfidf\"])\n",
    "    #print(tfidf_row)\n",
    "    \n",
    "    for word in old.split():\n",
    "        if word.lower() in feature_names:\n",
    "            names_list.append(word+'_'+str(it)+'_'+old) # row name\n",
    "            \n",
    "            features_row = []\n",
    "            features_row.append(tfidf_row.loc[word.lower()].tolist()[0]) # tfidf\n",
    "            features_row.append(idf_df.loc[word.lower()].tolist()[0]) # idf\n",
    "            features_row.append(sentence_difference(old, old.replace(word, '').replace('  ', ' '))) # w2v_imp\n",
    "            \n",
    "            features_row.append(word.lower() in type_words) # type\n",
    "            features_row.append(word.lower() in source_words) # source\n",
    "            features_row.append(word.lower() in terr_words) # territory\n",
    "            \n",
    "            features_row.append(str(word).lower().isdigit()) # only digits\n",
    "            features_row.append(str(word).lower().isalpha()) # only letters\n",
    "            features_row.append(str(word).lower().isalnum()) # only letters and digits (no symbols)\n",
    "        \n",
    "            features_table.append(features_row)\n",
    "    \n"
   ]
  },
  {
   "cell_type": "code",
   "execution_count": 249,
   "metadata": {},
   "outputs": [
    {
     "ename": "ValueError",
     "evalue": "Shape of passed values is (161063, 9), indices imply (0, 9)",
     "output_type": "error",
     "traceback": [
      "\u001b[1;31m---------------------------------------------------------------------------\u001b[0m",
      "\u001b[1;31mValueError\u001b[0m                                Traceback (most recent call last)",
      "\u001b[1;32m~\\AppData\\Local\\Programs\\Python\\Python38-32\\lib\\site-packages\\pandas\\core\\internals\\managers.py\u001b[0m in \u001b[0;36mcreate_block_manager_from_arrays\u001b[1;34m(arrays, names, axes)\u001b[0m\n\u001b[0;32m   1670\u001b[0m         \u001b[0mblocks\u001b[0m \u001b[1;33m=\u001b[0m \u001b[0mform_blocks\u001b[0m\u001b[1;33m(\u001b[0m\u001b[0marrays\u001b[0m\u001b[1;33m,\u001b[0m \u001b[0mnames\u001b[0m\u001b[1;33m,\u001b[0m \u001b[0maxes\u001b[0m\u001b[1;33m)\u001b[0m\u001b[1;33m\u001b[0m\u001b[1;33m\u001b[0m\u001b[0m\n\u001b[1;32m-> 1671\u001b[1;33m         \u001b[0mmgr\u001b[0m \u001b[1;33m=\u001b[0m \u001b[0mBlockManager\u001b[0m\u001b[1;33m(\u001b[0m\u001b[0mblocks\u001b[0m\u001b[1;33m,\u001b[0m \u001b[0maxes\u001b[0m\u001b[1;33m)\u001b[0m\u001b[1;33m\u001b[0m\u001b[1;33m\u001b[0m\u001b[0m\n\u001b[0m\u001b[0;32m   1672\u001b[0m         \u001b[0mmgr\u001b[0m\u001b[1;33m.\u001b[0m\u001b[0m_consolidate_inplace\u001b[0m\u001b[1;33m(\u001b[0m\u001b[1;33m)\u001b[0m\u001b[1;33m\u001b[0m\u001b[1;33m\u001b[0m\u001b[0m\n",
      "\u001b[1;32m~\\AppData\\Local\\Programs\\Python\\Python38-32\\lib\\site-packages\\pandas\\core\\internals\\managers.py\u001b[0m in \u001b[0;36m__init__\u001b[1;34m(self, blocks, axes, do_integrity_check)\u001b[0m\n\u001b[0;32m    138\u001b[0m         \u001b[1;32mif\u001b[0m \u001b[0mdo_integrity_check\u001b[0m\u001b[1;33m:\u001b[0m\u001b[1;33m\u001b[0m\u001b[1;33m\u001b[0m\u001b[0m\n\u001b[1;32m--> 139\u001b[1;33m             \u001b[0mself\u001b[0m\u001b[1;33m.\u001b[0m\u001b[0m_verify_integrity\u001b[0m\u001b[1;33m(\u001b[0m\u001b[1;33m)\u001b[0m\u001b[1;33m\u001b[0m\u001b[1;33m\u001b[0m\u001b[0m\n\u001b[0m\u001b[0;32m    140\u001b[0m \u001b[1;33m\u001b[0m\u001b[0m\n",
      "\u001b[1;32m~\\AppData\\Local\\Programs\\Python\\Python38-32\\lib\\site-packages\\pandas\\core\\internals\\managers.py\u001b[0m in \u001b[0;36m_verify_integrity\u001b[1;34m(self)\u001b[0m\n\u001b[0;32m    333\u001b[0m             \u001b[1;32mif\u001b[0m \u001b[0mblock\u001b[0m\u001b[1;33m.\u001b[0m\u001b[0m_verify_integrity\u001b[0m \u001b[1;32mand\u001b[0m \u001b[0mblock\u001b[0m\u001b[1;33m.\u001b[0m\u001b[0mshape\u001b[0m\u001b[1;33m[\u001b[0m\u001b[1;36m1\u001b[0m\u001b[1;33m:\u001b[0m\u001b[1;33m]\u001b[0m \u001b[1;33m!=\u001b[0m \u001b[0mmgr_shape\u001b[0m\u001b[1;33m[\u001b[0m\u001b[1;36m1\u001b[0m\u001b[1;33m:\u001b[0m\u001b[1;33m]\u001b[0m\u001b[1;33m:\u001b[0m\u001b[1;33m\u001b[0m\u001b[1;33m\u001b[0m\u001b[0m\n\u001b[1;32m--> 334\u001b[1;33m                 \u001b[0mconstruction_error\u001b[0m\u001b[1;33m(\u001b[0m\u001b[0mtot_items\u001b[0m\u001b[1;33m,\u001b[0m \u001b[0mblock\u001b[0m\u001b[1;33m.\u001b[0m\u001b[0mshape\u001b[0m\u001b[1;33m[\u001b[0m\u001b[1;36m1\u001b[0m\u001b[1;33m:\u001b[0m\u001b[1;33m]\u001b[0m\u001b[1;33m,\u001b[0m \u001b[0mself\u001b[0m\u001b[1;33m.\u001b[0m\u001b[0maxes\u001b[0m\u001b[1;33m)\u001b[0m\u001b[1;33m\u001b[0m\u001b[1;33m\u001b[0m\u001b[0m\n\u001b[0m\u001b[0;32m    335\u001b[0m         \u001b[1;32mif\u001b[0m \u001b[0mlen\u001b[0m\u001b[1;33m(\u001b[0m\u001b[0mself\u001b[0m\u001b[1;33m.\u001b[0m\u001b[0mitems\u001b[0m\u001b[1;33m)\u001b[0m \u001b[1;33m!=\u001b[0m \u001b[0mtot_items\u001b[0m\u001b[1;33m:\u001b[0m\u001b[1;33m\u001b[0m\u001b[1;33m\u001b[0m\u001b[0m\n",
      "\u001b[1;32m~\\AppData\\Local\\Programs\\Python\\Python38-32\\lib\\site-packages\\pandas\\core\\internals\\managers.py\u001b[0m in \u001b[0;36mconstruction_error\u001b[1;34m(tot_items, block_shape, axes, e)\u001b[0m\n\u001b[0;32m   1693\u001b[0m         \u001b[1;32mraise\u001b[0m \u001b[0mValueError\u001b[0m\u001b[1;33m(\u001b[0m\u001b[1;34m\"Empty data passed with indices specified.\"\u001b[0m\u001b[1;33m)\u001b[0m\u001b[1;33m\u001b[0m\u001b[1;33m\u001b[0m\u001b[0m\n\u001b[1;32m-> 1694\u001b[1;33m     \u001b[1;32mraise\u001b[0m \u001b[0mValueError\u001b[0m\u001b[1;33m(\u001b[0m\u001b[1;34mf\"Shape of passed values is {passed}, indices imply {implied}\"\u001b[0m\u001b[1;33m)\u001b[0m\u001b[1;33m\u001b[0m\u001b[1;33m\u001b[0m\u001b[0m\n\u001b[0m\u001b[0;32m   1695\u001b[0m \u001b[1;33m\u001b[0m\u001b[0m\n",
      "\u001b[1;31mValueError\u001b[0m: Shape of passed values is (161063, 9), indices imply (0, 9)",
      "\nDuring handling of the above exception, another exception occurred:\n",
      "\u001b[1;31mValueError\u001b[0m                                Traceback (most recent call last)",
      "\u001b[1;32m<ipython-input-249-105d7726fd38>\u001b[0m in \u001b[0;36m<module>\u001b[1;34m\u001b[0m\n\u001b[1;32m----> 1\u001b[1;33m word_features_df = pd.DataFrame(features_table, index=names_list,\n\u001b[0m\u001b[0;32m      2\u001b[0m                                 columns=['tfidf', 'idf', 'w2v_imp', 'type', 'source', 'terr',\n\u001b[0;32m      3\u001b[0m                                         'digit', 'letter', 'no_sym']\n\u001b[0;32m      4\u001b[0m                                ).fillna(0)\n\u001b[0;32m      5\u001b[0m \u001b[0mprint\u001b[0m\u001b[1;33m(\u001b[0m\u001b[0mword_features_df\u001b[0m\u001b[1;33m.\u001b[0m\u001b[0mshape\u001b[0m\u001b[1;33m)\u001b[0m\u001b[1;33m\u001b[0m\u001b[1;33m\u001b[0m\u001b[0m\n",
      "\u001b[1;32m~\\AppData\\Local\\Programs\\Python\\Python38-32\\lib\\site-packages\\pandas\\core\\frame.py\u001b[0m in \u001b[0;36m__init__\u001b[1;34m(self, data, index, columns, dtype, copy)\u001b[0m\n\u001b[0;32m    484\u001b[0m                             \u001b[0mindex\u001b[0m \u001b[1;33m=\u001b[0m \u001b[0mibase\u001b[0m\u001b[1;33m.\u001b[0m\u001b[0mdefault_index\u001b[0m\u001b[1;33m(\u001b[0m\u001b[0mlen\u001b[0m\u001b[1;33m(\u001b[0m\u001b[0mdata\u001b[0m\u001b[1;33m)\u001b[0m\u001b[1;33m)\u001b[0m\u001b[1;33m\u001b[0m\u001b[1;33m\u001b[0m\u001b[0m\n\u001b[0;32m    485\u001b[0m \u001b[1;33m\u001b[0m\u001b[0m\n\u001b[1;32m--> 486\u001b[1;33m                     \u001b[0mmgr\u001b[0m \u001b[1;33m=\u001b[0m \u001b[0marrays_to_mgr\u001b[0m\u001b[1;33m(\u001b[0m\u001b[0marrays\u001b[0m\u001b[1;33m,\u001b[0m \u001b[0mcolumns\u001b[0m\u001b[1;33m,\u001b[0m \u001b[0mindex\u001b[0m\u001b[1;33m,\u001b[0m \u001b[0mcolumns\u001b[0m\u001b[1;33m,\u001b[0m \u001b[0mdtype\u001b[0m\u001b[1;33m=\u001b[0m\u001b[0mdtype\u001b[0m\u001b[1;33m)\u001b[0m\u001b[1;33m\u001b[0m\u001b[1;33m\u001b[0m\u001b[0m\n\u001b[0m\u001b[0;32m    487\u001b[0m                 \u001b[1;32melse\u001b[0m\u001b[1;33m:\u001b[0m\u001b[1;33m\u001b[0m\u001b[1;33m\u001b[0m\u001b[0m\n\u001b[0;32m    488\u001b[0m                     \u001b[0mmgr\u001b[0m \u001b[1;33m=\u001b[0m \u001b[0minit_ndarray\u001b[0m\u001b[1;33m(\u001b[0m\u001b[0mdata\u001b[0m\u001b[1;33m,\u001b[0m \u001b[0mindex\u001b[0m\u001b[1;33m,\u001b[0m \u001b[0mcolumns\u001b[0m\u001b[1;33m,\u001b[0m \u001b[0mdtype\u001b[0m\u001b[1;33m=\u001b[0m\u001b[0mdtype\u001b[0m\u001b[1;33m,\u001b[0m \u001b[0mcopy\u001b[0m\u001b[1;33m=\u001b[0m\u001b[0mcopy\u001b[0m\u001b[1;33m)\u001b[0m\u001b[1;33m\u001b[0m\u001b[1;33m\u001b[0m\u001b[0m\n",
      "\u001b[1;32m~\\AppData\\Local\\Programs\\Python\\Python38-32\\lib\\site-packages\\pandas\\core\\internals\\construction.py\u001b[0m in \u001b[0;36marrays_to_mgr\u001b[1;34m(arrays, arr_names, index, columns, dtype)\u001b[0m\n\u001b[0;32m     72\u001b[0m     \u001b[0maxes\u001b[0m \u001b[1;33m=\u001b[0m \u001b[1;33m[\u001b[0m\u001b[0mensure_index\u001b[0m\u001b[1;33m(\u001b[0m\u001b[0mcolumns\u001b[0m\u001b[1;33m)\u001b[0m\u001b[1;33m,\u001b[0m \u001b[0mindex\u001b[0m\u001b[1;33m]\u001b[0m\u001b[1;33m\u001b[0m\u001b[1;33m\u001b[0m\u001b[0m\n\u001b[0;32m     73\u001b[0m \u001b[1;33m\u001b[0m\u001b[0m\n\u001b[1;32m---> 74\u001b[1;33m     \u001b[1;32mreturn\u001b[0m \u001b[0mcreate_block_manager_from_arrays\u001b[0m\u001b[1;33m(\u001b[0m\u001b[0marrays\u001b[0m\u001b[1;33m,\u001b[0m \u001b[0marr_names\u001b[0m\u001b[1;33m,\u001b[0m \u001b[0maxes\u001b[0m\u001b[1;33m)\u001b[0m\u001b[1;33m\u001b[0m\u001b[1;33m\u001b[0m\u001b[0m\n\u001b[0m\u001b[0;32m     75\u001b[0m \u001b[1;33m\u001b[0m\u001b[0m\n\u001b[0;32m     76\u001b[0m \u001b[1;33m\u001b[0m\u001b[0m\n",
      "\u001b[1;32m~\\AppData\\Local\\Programs\\Python\\Python38-32\\lib\\site-packages\\pandas\\core\\internals\\managers.py\u001b[0m in \u001b[0;36mcreate_block_manager_from_arrays\u001b[1;34m(arrays, names, axes)\u001b[0m\n\u001b[0;32m   1673\u001b[0m         \u001b[1;32mreturn\u001b[0m \u001b[0mmgr\u001b[0m\u001b[1;33m\u001b[0m\u001b[1;33m\u001b[0m\u001b[0m\n\u001b[0;32m   1674\u001b[0m     \u001b[1;32mexcept\u001b[0m \u001b[0mValueError\u001b[0m \u001b[1;32mas\u001b[0m \u001b[0me\u001b[0m\u001b[1;33m:\u001b[0m\u001b[1;33m\u001b[0m\u001b[1;33m\u001b[0m\u001b[0m\n\u001b[1;32m-> 1675\u001b[1;33m         \u001b[0mconstruction_error\u001b[0m\u001b[1;33m(\u001b[0m\u001b[0mlen\u001b[0m\u001b[1;33m(\u001b[0m\u001b[0marrays\u001b[0m\u001b[1;33m)\u001b[0m\u001b[1;33m,\u001b[0m \u001b[0marrays\u001b[0m\u001b[1;33m[\u001b[0m\u001b[1;36m0\u001b[0m\u001b[1;33m]\u001b[0m\u001b[1;33m.\u001b[0m\u001b[0mshape\u001b[0m\u001b[1;33m,\u001b[0m \u001b[0maxes\u001b[0m\u001b[1;33m,\u001b[0m \u001b[0me\u001b[0m\u001b[1;33m)\u001b[0m\u001b[1;33m\u001b[0m\u001b[1;33m\u001b[0m\u001b[0m\n\u001b[0m\u001b[0;32m   1676\u001b[0m \u001b[1;33m\u001b[0m\u001b[0m\n\u001b[0;32m   1677\u001b[0m \u001b[1;33m\u001b[0m\u001b[0m\n",
      "\u001b[1;32m~\\AppData\\Local\\Programs\\Python\\Python38-32\\lib\\site-packages\\pandas\\core\\internals\\managers.py\u001b[0m in \u001b[0;36mconstruction_error\u001b[1;34m(tot_items, block_shape, axes, e)\u001b[0m\n\u001b[0;32m   1692\u001b[0m     \u001b[1;32mif\u001b[0m \u001b[0mblock_shape\u001b[0m\u001b[1;33m[\u001b[0m\u001b[1;36m0\u001b[0m\u001b[1;33m]\u001b[0m \u001b[1;33m==\u001b[0m \u001b[1;36m0\u001b[0m\u001b[1;33m:\u001b[0m\u001b[1;33m\u001b[0m\u001b[1;33m\u001b[0m\u001b[0m\n\u001b[0;32m   1693\u001b[0m         \u001b[1;32mraise\u001b[0m \u001b[0mValueError\u001b[0m\u001b[1;33m(\u001b[0m\u001b[1;34m\"Empty data passed with indices specified.\"\u001b[0m\u001b[1;33m)\u001b[0m\u001b[1;33m\u001b[0m\u001b[1;33m\u001b[0m\u001b[0m\n\u001b[1;32m-> 1694\u001b[1;33m     \u001b[1;32mraise\u001b[0m \u001b[0mValueError\u001b[0m\u001b[1;33m(\u001b[0m\u001b[1;34mf\"Shape of passed values is {passed}, indices imply {implied}\"\u001b[0m\u001b[1;33m)\u001b[0m\u001b[1;33m\u001b[0m\u001b[1;33m\u001b[0m\u001b[0m\n\u001b[0m\u001b[0;32m   1695\u001b[0m \u001b[1;33m\u001b[0m\u001b[0m\n\u001b[0;32m   1696\u001b[0m \u001b[1;33m\u001b[0m\u001b[0m\n",
      "\u001b[1;31mValueError\u001b[0m: Shape of passed values is (161063, 9), indices imply (0, 9)"
     ]
    }
   ],
   "source": [
    "word_features_df = pd.DataFrame(features_table, index\n",
    "                                columns=['tfidf', 'idf', 'w2v_imp', 'type', 'source', 'terr',\n",
    "                                        'digit', 'letter', 'no_sym']\n",
    "                               ).fillna(0)\n",
    "print(word_features_df.shape)\n",
    "word_features_df.head()"
   ]
  },
  {
   "cell_type": "code",
   "execution_count": null,
   "metadata": {},
   "outputs": [],
   "source": [
    "y_pred = rf.predict(word_features_df)"
   ]
  },
  {
   "cell_type": "code",
   "execution_count": null,
   "metadata": {},
   "outputs": [],
   "source": [
    "result_dict = {}\n",
    "for query in X_test.index:\n",
    "    splitted = query.split('_')\n",
    "    word = splitted[0]\n",
    "    N = splitted[1]\n",
    "    sent = ''\n",
    "    for part in splitted[2:]:\n",
    "        sent += part\n",
    "        \n",
    "    N = int(N)\n",
    "    if N not in result_dict.keys():\n",
    "        result_dict[N] = {'query':sent, 'del':[word]}\n",
    "    else:\n",
    "        result_dict[N]['del'].append(word)"
   ]
  },
  {
   "cell_type": "code",
   "execution_count": null,
   "metadata": {},
   "outputs": [],
   "source": [
    "result = [[result_dict[N]['query'], result_dict[N]['del']] for N in result_dict.keys()]\n",
    "result_df = pd.DataFrame(result, columns=['Запрос','Удалено'])"
   ]
  }
 ],
 "metadata": {
  "kernelspec": {
   "display_name": "Python 3",
   "language": "python",
   "name": "python3"
  },
  "language_info": {
   "codemirror_mode": {
    "name": "ipython",
    "version": 3
   },
   "file_extension": ".py",
   "mimetype": "text/x-python",
   "name": "python",
   "nbconvert_exporter": "python",
   "pygments_lexer": "ipython3",
   "version": "3.8.3"
  }
 },
 "nbformat": 4,
 "nbformat_minor": 4
}
