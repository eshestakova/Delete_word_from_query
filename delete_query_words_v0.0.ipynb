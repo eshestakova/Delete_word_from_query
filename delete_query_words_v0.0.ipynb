{
 "cells": [
  {
   "cell_type": "code",
   "execution_count": 112,
   "metadata": {},
   "outputs": [],
   "source": [
    "import pandas as pd\n",
    "import numpy as np\n",
    "from scipy import spatial\n",
    "import matplotlib.pyplot as plt\n",
    "%matplotlib inline\n",
    "from sklearn.feature_extraction.text import TfidfTransformer\n",
    "from sklearn.feature_extraction.text import CountVectorizer\n",
    "from gensim.models import Word2Vec\n",
    "from gensim.models.phrases import Phrases, Phraser\n",
    "from tqdm import tqdm"
   ]
  },
  {
   "cell_type": "code",
   "execution_count": 104,
   "metadata": {},
   "outputs": [],
   "source": [
    "import warnings\n",
    "warnings.filterwarnings('ignore')"
   ]
  },
  {
   "cell_type": "markdown",
   "metadata": {},
   "source": [
    "#### Таблица с исходными и исправленными запросами\n",
    "\n",
    "- orig - исходный запрос\n",
    "- new - исправленный запрос\n",
    "- deleted - удаленные из исходного запроса слова\n",
    "- added - добавленные в исходный запрос слова"
   ]
  },
  {
   "cell_type": "code",
   "execution_count": 150,
   "metadata": {},
   "outputs": [
    {
     "name": "stdout",
     "output_type": "stream",
     "text": [
      "(4410, 4)\n"
     ]
    },
    {
     "data": {
      "text/html": [
       "<div>\n",
       "<style scoped>\n",
       "    .dataframe tbody tr th:only-of-type {\n",
       "        vertical-align: middle;\n",
       "    }\n",
       "\n",
       "    .dataframe tbody tr th {\n",
       "        vertical-align: top;\n",
       "    }\n",
       "\n",
       "    .dataframe thead th {\n",
       "        text-align: right;\n",
       "    }\n",
       "</style>\n",
       "<table border=\"1\" class=\"dataframe\">\n",
       "  <thead>\n",
       "    <tr style=\"text-align: right;\">\n",
       "      <th></th>\n",
       "      <th>old</th>\n",
       "      <th>new</th>\n",
       "      <th>deleted</th>\n",
       "      <th>added</th>\n",
       "    </tr>\n",
       "  </thead>\n",
       "  <tbody>\n",
       "    <tr>\n",
       "      <th>4412</th>\n",
       "      <td>является ли нарушением законодательства несоот...</td>\n",
       "      <td>является ли нарушением законодательства несоот...</td>\n",
       "      <td>его на и выполнение создания в пл отраженными</td>\n",
       "      <td>NaN</td>\n",
       "    </tr>\n",
       "    <tr>\n",
       "      <th>4413</th>\n",
       "      <td>является ли несовместное проживание с детьми п...</td>\n",
       "      <td>имеет ли право требовать пенсионный фонд при н...</td>\n",
       "      <td>отказа детьми поводом с в проживание является ...</td>\n",
       "      <td>назначении фонд имеет совместном право прожива...</td>\n",
       "    </tr>\n",
       "    <tr>\n",
       "      <th>4414</th>\n",
       "      <td>является ли объектами налогообложения налогом ...</td>\n",
       "      <td>пожарная сигнализация налог на имущество в 2019</td>\n",
       "      <td>и объектами видеонаблюдения ли система являетс...</td>\n",
       "      <td>налог</td>\n",
       "    </tr>\n",
       "    <tr>\n",
       "      <th>4415</th>\n",
       "      <td>является ли основанием для увольнения руководи...</td>\n",
       "      <td>типовая форма договора с руководителем федерал...</td>\n",
       "      <td>указанием увольнения задолженности ли автономн...</td>\n",
       "      <td>форма руководителем договора типовая</td>\n",
       "    </tr>\n",
       "    <tr>\n",
       "      <th>4416</th>\n",
       "      <td>#ERROR!</td>\n",
       "      <td>- ткань должна соответствовать требованиям ГОС...</td>\n",
       "      <td>NaN</td>\n",
       "      <td>ГОСТ 29298-2005 Ткани хлопчатобумажные и смеша...</td>\n",
       "    </tr>\n",
       "  </tbody>\n",
       "</table>\n",
       "</div>"
      ],
      "text/plain": [
       "                                                    old  \\\n",
       "4412  является ли нарушением законодательства несоот...   \n",
       "4413  является ли несовместное проживание с детьми п...   \n",
       "4414  является ли объектами налогообложения налогом ...   \n",
       "4415  является ли основанием для увольнения руководи...   \n",
       "4416                                            #ERROR!   \n",
       "\n",
       "                                                    new  \\\n",
       "4412  является ли нарушением законодательства несоот...   \n",
       "4413  имеет ли право требовать пенсионный фонд при н...   \n",
       "4414    пожарная сигнализация налог на имущество в 2019   \n",
       "4415  типовая форма договора с руководителем федерал...   \n",
       "4416  - ткань должна соответствовать требованиям ГОС...   \n",
       "\n",
       "                                                deleted  \\\n",
       "4412      его на и выполнение создания в пл отраженными   \n",
       "4413  отказа детьми поводом с в проживание является ...   \n",
       "4414  и объектами видеонаблюдения ли система являетс...   \n",
       "4415  указанием увольнения задолженности ли автономн...   \n",
       "4416                                                NaN   \n",
       "\n",
       "                                                  added  \n",
       "4412                                                NaN  \n",
       "4413  назначении фонд имеет совместном право прожива...  \n",
       "4414                                              налог  \n",
       "4415               форма руководителем договора типовая  \n",
       "4416  ГОСТ 29298-2005 Ткани хлопчатобумажные и смеша...  "
      ]
     },
     "execution_count": 150,
     "metadata": {},
     "output_type": "execute_result"
    }
   ],
   "source": [
    "queries_df = pd.read_csv('queries_fixed.csv', usecols=['нулевой запрос', 'успешный запрос', 'что выкинули', 'что добавили'])\n",
    "queries_df.columns = ['old', 'new', 'deleted', 'added']\n",
    "queries_df = queries_df[(queries_df['old'] == queries_df['old']) & (queries_df['new'] == queries_df['new'])]\n",
    "print(queries_df.shape)\n",
    "queries_df['old'] = queries_df['old'].apply(lambda sent: sent.strip())\n",
    "queries_df['new'] = queries_df['new'].apply(lambda sent: sent.strip())\n",
    "queries_df.tail()"
   ]
  },
  {
   "cell_type": "markdown",
   "metadata": {},
   "source": [
    "#### Таблицы с нормальными формами для исходных и исправленных запросов\n",
    "\n",
    "- query - текст запроса\n",
    "- normal - все варианты нормализованного запроса (через ;)\n",
    "- syn - однословные синонимы всех слов запроса"
   ]
  },
  {
   "cell_type": "code",
   "execution_count": 151,
   "metadata": {},
   "outputs": [
    {
     "name": "stdout",
     "output_type": "stream",
     "text": [
      "(4401, 3)\n"
     ]
    },
    {
     "data": {
      "text/html": [
       "<div>\n",
       "<style scoped>\n",
       "    .dataframe tbody tr th:only-of-type {\n",
       "        vertical-align: middle;\n",
       "    }\n",
       "\n",
       "    .dataframe tbody tr th {\n",
       "        vertical-align: top;\n",
       "    }\n",
       "\n",
       "    .dataframe thead th {\n",
       "        text-align: right;\n",
       "    }\n",
       "</style>\n",
       "<table border=\"1\" class=\"dataframe\">\n",
       "  <thead>\n",
       "    <tr style=\"text-align: right;\">\n",
       "      <th></th>\n",
       "      <th>query</th>\n",
       "      <th>normal</th>\n",
       "      <th>syn</th>\n",
       "    </tr>\n",
       "  </thead>\n",
       "  <tbody>\n",
       "    <tr>\n",
       "      <th>4411</th>\n",
       "      <td>явление о признании неуважительными причин не ...</td>\n",
       "      <td>ЯВЛЕНИЕ ПРИЗНАВАТЬ НЕУВАЖЕНИЕ ПРИЧИНА НЕ~ПРОЖИ...</td>\n",
       "      <td>6 6Н БОЛЕЕ ВМЕСТЕ ВОСПИТАНИЕ ВЫШЕ ДЕТСКИЙ МЕС...</td>\n",
       "    </tr>\n",
       "    <tr>\n",
       "      <th>4412</th>\n",
       "      <td>является ли нарушением законодательства несоот...</td>\n",
       "      <td>НАРУШЕНИЕ ЗАКОНОДАТЕЛЬСТВО НЕ~СООТВЕТСТВИЕ ФАК...</td>\n",
       "      <td>БЮДЖЕТНИК БЮДЖЕТНО ВКЛЮЧАТЬ ВЫПОЛНЕНИЕ ГОССЕК...</td>\n",
       "    </tr>\n",
       "    <tr>\n",
       "      <th>4413</th>\n",
       "      <td>является ли несовместное проживание с детьми п...</td>\n",
       "      <td>НЕСОВМЕСТНЫЙ ПРОЖИВАНИЕ ДЕТСКИЙ ПОВОД ОТКАЗ ПЕ...</td>\n",
       "      <td>ДЕТСКИЙ НЕСОВЕРШЕННОЛЕТИЕ НЕСОВЕРШЕННОЛЕТНИЙ ...</td>\n",
       "    </tr>\n",
       "    <tr>\n",
       "      <th>4414</th>\n",
       "      <td>является ли объектами налогообложения налогом ...</td>\n",
       "      <td>ОБЪЕКТ НАЛОГООБЛОЖЕНИЕ НАЛОГ ИМУЩЕСТВЕННЫЙ ПОЖ...</td>\n",
       "      <td>2019 2019Г ВИДЕО ИМУЩЕСТВЕННЫЙ НАЛОГ НАЛОГООБ...</td>\n",
       "    </tr>\n",
       "    <tr>\n",
       "      <th>4415</th>\n",
       "      <td>является ли основанием для увольнения руководи...</td>\n",
       "      <td>ОСНОВАНИЕ ПРЕКРАЩЕНИЕ ТРУДОВОЙ ДОГОВОР РУКОВОД...</td>\n",
       "      <td>АВТОНОМНЫЙ БЮДЖЕТНИК БЮДЖЕТНО ВЕЛИЧИНА ВОВРЕМ...</td>\n",
       "    </tr>\n",
       "  </tbody>\n",
       "</table>\n",
       "</div>"
      ],
      "text/plain": [
       "                                                  query  \\\n",
       "4411  явление о признании неуважительными причин не ...   \n",
       "4412  является ли нарушением законодательства несоот...   \n",
       "4413  является ли несовместное проживание с детьми п...   \n",
       "4414  является ли объектами налогообложения налогом ...   \n",
       "4415  является ли основанием для увольнения руководи...   \n",
       "\n",
       "                                                 normal  \\\n",
       "4411  ЯВЛЕНИЕ ПРИЗНАВАТЬ НЕУВАЖЕНИЕ ПРИЧИНА НЕ~ПРОЖИ...   \n",
       "4412  НАРУШЕНИЕ ЗАКОНОДАТЕЛЬСТВО НЕ~СООТВЕТСТВИЕ ФАК...   \n",
       "4413  НЕСОВМЕСТНЫЙ ПРОЖИВАНИЕ ДЕТСКИЙ ПОВОД ОТКАЗ ПЕ...   \n",
       "4414  ОБЪЕКТ НАЛОГООБЛОЖЕНИЕ НАЛОГ ИМУЩЕСТВЕННЫЙ ПОЖ...   \n",
       "4415  ОСНОВАНИЕ ПРЕКРАЩЕНИЕ ТРУДОВОЙ ДОГОВОР РУКОВОД...   \n",
       "\n",
       "                                                    syn  \n",
       "4411   6 6Н БОЛЕЕ ВМЕСТЕ ВОСПИТАНИЕ ВЫШЕ ДЕТСКИЙ МЕС...  \n",
       "4412   БЮДЖЕТНИК БЮДЖЕТНО ВКЛЮЧАТЬ ВЫПОЛНЕНИЕ ГОССЕК...  \n",
       "4413   ДЕТСКИЙ НЕСОВЕРШЕННОЛЕТИЕ НЕСОВЕРШЕННОЛЕТНИЙ ...  \n",
       "4414   2019 2019Г ВИДЕО ИМУЩЕСТВЕННЫЙ НАЛОГ НАЛОГООБ...  \n",
       "4415   АВТОНОМНЫЙ БЮДЖЕТНИК БЮДЖЕТНО ВЕЛИЧИНА ВОВРЕМ...  "
      ]
     },
     "execution_count": 151,
     "metadata": {},
     "output_type": "execute_result"
    }
   ],
   "source": [
    "normforms_old_df = pd.read_table('queries_norm.txt', names=('query', 'normal', 'syn'),\n",
    "                                 sep=':', encoding='mbcs').dropna()\n",
    "print(normforms_old_df.shape)\n",
    "normforms_old_df['query']  = normforms_old_df['query'].apply( lambda sent: sent.strip())\n",
    "normforms_old_df['normal'] = normforms_old_df['normal'].apply(lambda sent: sent.strip())\n",
    "normforms_old_df = normforms_old_df[normforms_old_df['query'] == normforms_old_df['query']]\n",
    "normforms_old_df.tail()"
   ]
  },
  {
   "cell_type": "code",
   "execution_count": 131,
   "metadata": {},
   "outputs": [
    {
     "name": "stdout",
     "output_type": "stream",
     "text": [
      "(4409, 3)\n"
     ]
    },
    {
     "data": {
      "text/html": [
       "<div>\n",
       "<style scoped>\n",
       "    .dataframe tbody tr th:only-of-type {\n",
       "        vertical-align: middle;\n",
       "    }\n",
       "\n",
       "    .dataframe tbody tr th {\n",
       "        vertical-align: top;\n",
       "    }\n",
       "\n",
       "    .dataframe thead th {\n",
       "        text-align: right;\n",
       "    }\n",
       "</style>\n",
       "<table border=\"1\" class=\"dataframe\">\n",
       "  <thead>\n",
       "    <tr style=\"text-align: right;\">\n",
       "      <th></th>\n",
       "      <th>query</th>\n",
       "      <th>normal</th>\n",
       "      <th>syn</th>\n",
       "    </tr>\n",
       "  </thead>\n",
       "  <tbody>\n",
       "    <tr>\n",
       "      <th>4405</th>\n",
       "      <td>является ли нарушением законодательства несоот...</td>\n",
       "      <td>НАРУШЕНИЕ ЗАКОНОДАТЕЛЬСТВО НЕ~СООТВЕТСТВИЕ ФАК...</td>\n",
       "      <td>БЮДЖЕТНИК БЮДЖЕТНО ГОССЕКТОР ГОСУДАРСТВЕННО З...</td>\n",
       "    </tr>\n",
       "    <tr>\n",
       "      <th>4406</th>\n",
       "      <td>имеет ли право требовать пенсионный фонд при н...</td>\n",
       "      <td>ПРАВО ТРЕБОВАТЬ ПЕНСИОННЫЙ-ФОНД НАЗНАЧЕНИЕ ПЕН...</td>\n",
       "      <td>ВМЕСТЕ ВПРАВЕ ЗАТРЕБОВАНИЕ ЗАТРЕБОВАТЬ НАЗНАЧ...</td>\n",
       "    </tr>\n",
       "    <tr>\n",
       "      <th>4407</th>\n",
       "      <td>пожарная сигнализация налог на имущество в 2019</td>\n",
       "      <td>ПОЖАРНО СИГНАЛИЗАЦИЯ НАЛОГ ИМУЩЕСТВЕННЫЙ 2019;...</td>\n",
       "      <td>2019 2019Г ИМУЩЕСТВЕННЫЙ НАЛОГ ПОЖАРНО СИГНАЛ...</td>\n",
       "    </tr>\n",
       "    <tr>\n",
       "      <th>4408</th>\n",
       "      <td>типовая форма договора с руководителем федерал...</td>\n",
       "      <td>ОБРАЗЕЦ-ДОГОВОР РУКОВОДИТЕЛЬ ФБУ;ОБРАЗЕЦ-ДОГОВ...</td>\n",
       "      <td>БЮДЖЕТНО ДИРЕКТОР ДОГОВОР ДОГОВОРНЫЙ НАЧАЛЬНИ...</td>\n",
       "    </tr>\n",
       "    <tr>\n",
       "      <th>4409</th>\n",
       "      <td>- ткань должна соответствовать требованиям ГОС...</td>\n",
       "      <td>ТКАНЬ ДОЛЖЕН ОТВЕТСТВЕННОСТЬ ТРЕБОВАНИЕ ГОСТ 2...</td>\n",
       "      <td>2005 29298 БЫТ ГОСТ ГОСТ29298 ДОЛЖЕН ЗАТРЕБОВ...</td>\n",
       "    </tr>\n",
       "  </tbody>\n",
       "</table>\n",
       "</div>"
      ],
      "text/plain": [
       "                                                  query  \\\n",
       "4405  является ли нарушением законодательства несоот...   \n",
       "4406  имеет ли право требовать пенсионный фонд при н...   \n",
       "4407    пожарная сигнализация налог на имущество в 2019   \n",
       "4408  типовая форма договора с руководителем федерал...   \n",
       "4409  - ткань должна соответствовать требованиям ГОС...   \n",
       "\n",
       "                                                 normal  \\\n",
       "4405  НАРУШЕНИЕ ЗАКОНОДАТЕЛЬСТВО НЕ~СООТВЕТСТВИЕ ФАК...   \n",
       "4406  ПРАВО ТРЕБОВАТЬ ПЕНСИОННЫЙ-ФОНД НАЗНАЧЕНИЕ ПЕН...   \n",
       "4407  ПОЖАРНО СИГНАЛИЗАЦИЯ НАЛОГ ИМУЩЕСТВЕННЫЙ 2019;...   \n",
       "4408  ОБРАЗЕЦ-ДОГОВОР РУКОВОДИТЕЛЬ ФБУ;ОБРАЗЕЦ-ДОГОВ...   \n",
       "4409  ТКАНЬ ДОЛЖЕН ОТВЕТСТВЕННОСТЬ ТРЕБОВАНИЕ ГОСТ 2...   \n",
       "\n",
       "                                                    syn  \n",
       "4405   БЮДЖЕТНИК БЮДЖЕТНО ГОССЕКТОР ГОСУДАРСТВЕННО З...  \n",
       "4406   ВМЕСТЕ ВПРАВЕ ЗАТРЕБОВАНИЕ ЗАТРЕБОВАТЬ НАЗНАЧ...  \n",
       "4407   2019 2019Г ИМУЩЕСТВЕННЫЙ НАЛОГ ПОЖАРНО СИГНАЛ...  \n",
       "4408   БЮДЖЕТНО ДИРЕКТОР ДОГОВОР ДОГОВОРНЫЙ НАЧАЛЬНИ...  \n",
       "4409   2005 29298 БЫТ ГОСТ ГОСТ29298 ДОЛЖЕН ЗАТРЕБОВ...  "
      ]
     },
     "execution_count": 131,
     "metadata": {},
     "output_type": "execute_result"
    }
   ],
   "source": [
    "normforms_new_df = pd.read_table('new_queries_norm.txt', names=('query', 'normal', 'syn'),\n",
    "                                 sep=':', encoding='mbcs').dropna()\n",
    "print(normforms_new_df.shape)\n",
    "normforms_new_df['query']  = normforms_new_df['query'].apply( lambda sent: sent.strip())\n",
    "normforms_new_df['normal'] = normforms_new_df['normal'].apply(lambda sent: sent.strip())\n",
    "normforms_new_df.tail()"
   ]
  },
  {
   "cell_type": "markdown",
   "metadata": {},
   "source": [
    "### Preprocessing"
   ]
  },
  {
   "cell_type": "code",
   "execution_count": 35,
   "metadata": {},
   "outputs": [
    {
     "name": "stdout",
     "output_type": "stream",
     "text": [
      "72389\n"
     ]
    },
    {
     "data": {
      "text/plain": [
       "['ПОСТАНОВЛЕНИЕ ПРАВИТЕЛЬСТВО РМ-16-02-2008 Г 7',\n",
       " 'ПОСТАНОВЛЕНИЕ ПРАВИТЕЛЬСТВО РМ-16-02-2008 Г 7Н',\n",
       " 'ПОСТАНОВЛЕНИЕ ПРАВИТЕЛЬСТВО РМ16-02-2008 Г 7',\n",
       " 'ПОСТАНОВЛЕНИЕ ПРАВИТЕЛЬСТВО РМ16-02-2008 Г 7Н',\n",
       " 'ДЕЙСТВИЕ ТАРИФ ПАССАЖИР-ПЕРЕВОЗКА ВЕЩЬ НАХОДИТЬ ПАССАЖИР ЖИВНОСТЬ']"
      ]
     },
     "execution_count": 35,
     "metadata": {},
     "output_type": "execute_result"
    }
   ],
   "source": [
    "all_query_to_normforms_dict = {}\n",
    "all_normforms_to_query_dict = {}\n",
    "all_normforms = []\n",
    "\n",
    "all_queries_list = normforms_old_df['query'].tolist() + normforms_new_df['query'].tolist()\n",
    "all_normform_row_list = normforms_old_df['normal'].tolist() + normforms_new_df['normal'].tolist()\n",
    "\n",
    "for j in range(len(all_queries_list)):\n",
    "    row_split = all_normform_row_list[j].strip().split(';')\n",
    "    all_normforms.extend(row_split)\n",
    "    all_query_to_normforms_dict[all_queries_list[j]] = row_split\n",
    "    for subj in row_split:\n",
    "        all_normforms_to_query_dict[subj] = all_queries_list[j]\n",
    "print(len(all_normforms))\n",
    "all_normforms[:5]"
   ]
  },
  {
   "cell_type": "markdown",
   "metadata": {},
   "source": [
    "### TF IDF"
   ]
  },
  {
   "cell_type": "code",
   "execution_count": 36,
   "metadata": {},
   "outputs": [
    {
     "data": {
      "text/plain": [
       "(72389, 8249)"
      ]
     },
     "execution_count": 36,
     "metadata": {},
     "output_type": "execute_result"
    }
   ],
   "source": [
    "cv = CountVectorizer(min_df=2)\n",
    "word_count_vector = cv.fit_transform(all_normforms)\n",
    "word_count_vector.shape"
   ]
  },
  {
   "cell_type": "code",
   "execution_count": 37,
   "metadata": {},
   "outputs": [
    {
     "data": {
      "text/plain": [
       "8249"
      ]
     },
     "execution_count": 37,
     "metadata": {},
     "output_type": "execute_result"
    }
   ],
   "source": [
    "word_count_vector1 = word_count_vector.copy()\n",
    "for i in range(73):\n",
    "    if i == 0:\n",
    "        word_freq_array = word_count_vector1[:10000].toarray().sum(axis=0)\n",
    "    else:\n",
    "        word_freq_array = np.vstack((word_freq_array,word_count_vector1[:10000].toarray().sum(axis=0)))\n",
    "    word_count_vector1 = word_count_vector1[10000:]\n",
    "all_word_freq = word_freq_array.sum(axis=0)\n",
    "len(all_word_freq)"
   ]
  },
  {
   "cell_type": "code",
   "execution_count": 38,
   "metadata": {},
   "outputs": [
    {
     "data": {
      "image/png": "[encoded data removed]",
      "text/plain": [
       "<Figure size 432x288 with 1 Axes>"
      ]
     },
     "metadata": {
      "needs_background": "light"
     },
     "output_type": "display_data"
    }
   ],
   "source": [
    "#распределение частот слов\n",
    "_=plt.hist(list(all_word_freq),range=[0,1000],bins=50)"
   ]
  },
  {
   "cell_type": "code",
   "execution_count": 39,
   "metadata": {},
   "outputs": [
    {
     "data": {
      "text/plain": [
       "8249"
      ]
     },
     "execution_count": 39,
     "metadata": {},
     "output_type": "execute_result"
    }
   ],
   "source": [
    "words = cv.get_feature_names()\n",
    "len(words)"
   ]
  },
  {
   "cell_type": "code",
   "execution_count": 40,
   "metadata": {},
   "outputs": [],
   "source": [
    "tfidf_transformer = TfidfTransformer()\n",
    "tfidf_transformer.fit(word_count_vector)\n",
    "\n",
    "all_normforms_transformed = cv.transform(all_normforms)\n",
    "all_normforms_tfidf = tfidf_transformer.transform(all_normforms_transformed)"
   ]
  },
  {
   "cell_type": "code",
   "execution_count": 41,
   "metadata": {},
   "outputs": [
    {
     "data": {
      "text/plain": [
       "(8249,)"
      ]
     },
     "execution_count": 41,
     "metadata": {},
     "output_type": "execute_result"
    }
   ],
   "source": [
    "tfidf_transformer.idf_.shape"
   ]
  },
  {
   "cell_type": "code",
   "execution_count": 42,
   "metadata": {},
   "outputs": [
    {
     "data": {
      "text/plain": [
       "(72389, 8249)"
      ]
     },
     "execution_count": 42,
     "metadata": {},
     "output_type": "execute_result"
    }
   ],
   "source": [
    "all_normforms_tfidf.shape"
   ]
  },
  {
   "cell_type": "markdown",
   "metadata": {},
   "source": [
    "### word2vec\n"
   ]
  },
  {
   "cell_type": "code",
   "execution_count": 43,
   "metadata": {},
   "outputs": [],
   "source": [
    "sent_split = [nf.split() for nf in all_normforms]\n",
    "phrases = Phrases(sent_split, min_count=30)\n",
    "bigram = Phraser(phrases)\n",
    "sentences = bigram[sent_split]"
   ]
  },
  {
   "cell_type": "code",
   "execution_count": 44,
   "metadata": {},
   "outputs": [],
   "source": [
    "w2v = Word2Vec(min_count=20, # Ignores all words with total absolute frequency lower than this\n",
    "                     window=2,     # The maximum distance between the current and predicted word within a sentence.\n",
    "                     size=300,     # Dimensionality of the feature vectors.\n",
    "                     sample=6e-5,  # The threshold for configuring which higher-frequency words are randomly downsampled.\n",
    "                                   # Highly influencial.\n",
    "                     alpha=0.03,   # The initial learning rate\n",
    "                     min_alpha=0.0007, \n",
    "                     negative=20) # If > 0, negative sampling will be used, the int for negative specifies how many \"noise words\" should be drown.\n",
    "                                  # If set to 0, no negative sampling is used."
   ]
  },
  {
   "cell_type": "code",
   "execution_count": 45,
   "metadata": {},
   "outputs": [],
   "source": [
    "w2v.build_vocab(sentences)"
   ]
  },
  {
   "cell_type": "code",
   "execution_count": 46,
   "metadata": {},
   "outputs": [
    {
     "data": {
      "text/plain": [
       "(6894906, 14403270)"
      ]
     },
     "execution_count": 46,
     "metadata": {},
     "output_type": "execute_result"
    }
   ],
   "source": [
    "w2v.train(sentences, total_examples=w2v.corpus_count, # total_examples - Count of sentences\n",
    "                epochs=30, report_delay=1)"
   ]
  },
  {
   "cell_type": "code",
   "execution_count": 47,
   "metadata": {},
   "outputs": [],
   "source": [
    "# make the model more memory-efficient\n",
    "w2v.init_sims(replace=True)"
   ]
  },
  {
   "cell_type": "code",
   "execution_count": 48,
   "metadata": {},
   "outputs": [
    {
     "data": {
      "text/plain": [
       "4399"
      ]
     },
     "execution_count": 48,
     "metadata": {},
     "output_type": "execute_result"
    }
   ],
   "source": [
    "len(w2v.wv.vocab.items())"
   ]
  },
  {
   "cell_type": "code",
   "execution_count": 49,
   "metadata": {},
   "outputs": [
    {
     "data": {
      "text/plain": [
       "[('ЭТИКА', 0.6193612217903137),\n",
       " ('СЕМЕЙНЫЙ', 0.5697823166847229),\n",
       " ('МЕСЯЧНЫЙ', 0.5465676784515381),\n",
       " ('2006', 0.5121858716011047),\n",
       " ('ЗК', 0.4922666549682617),\n",
       " ('ЗЕМЕЛЬНО-КОДЕКС', 0.48882943391799927),\n",
       " ('ОБ-ОБРАЗОВАНИЕ', 0.42815130949020386),\n",
       " ('ИЗЫСКАТЕЛЬНЫЙ', 0.42647624015808105),\n",
       " ('ТМ-Т1', 0.42126545310020447),\n",
       " ('РАССРОЧКА', 0.4184477627277374)]"
      ]
     },
     "execution_count": 49,
     "metadata": {},
     "output_type": "execute_result"
    }
   ],
   "source": [
    "w2v.wv.most_similar(positive='КОДЕКС')"
   ]
  },
  {
   "cell_type": "code",
   "execution_count": 50,
   "metadata": {},
   "outputs": [],
   "source": [
    "index2word_set = set(w2v.wv.index2word)\n",
    "\n",
    "# for sentences\n",
    "def avg_feature_vector(sentence, model, num_features, index2word_set):\n",
    "    words = sentence.split()\n",
    "    feature_vec = np.zeros((num_features, ), dtype='float32')\n",
    "    n_words = 0\n",
    "    for word in words:\n",
    "        if word in index2word_set:\n",
    "            n_words += 1\n",
    "            feature_vec = np.add(feature_vec, model[word])\n",
    "    if (n_words > 0):\n",
    "        feature_vec = np.divide(feature_vec, n_words)\n",
    "    return feature_vec"
   ]
  },
  {
   "cell_type": "code",
   "execution_count": 51,
   "metadata": {},
   "outputs": [],
   "source": [
    "def sentence_similarity(sent1, sent2):\n",
    "    s1_afv = avg_feature_vector(sent1, model=w2v, num_features=300, index2word_set=index2word_set)\n",
    "    s2_afv = avg_feature_vector(sent2, model=w2v, num_features=300, index2word_set=index2word_set)\n",
    "    sim = 1 - spatial.distance.cosine(s1_afv, s2_afv)\n",
    "    return sim"
   ]
  },
  {
   "cell_type": "code",
   "execution_count": 105,
   "metadata": {},
   "outputs": [
    {
     "data": {
      "text/plain": [
       "0.8052007555961609"
      ]
     },
     "execution_count": 105,
     "metadata": {},
     "output_type": "execute_result"
    }
   ],
   "source": [
    "sentence_similarity('ПОСТАНОВЛЕНИЕ ПРАВИТЕЛЬСТВО РЕСПУБЛИКА МОРДОВИЯ 16-02-2008 7',\n",
    "                    'ПОСТАНОВЛЕНИЕ ПРАВИТЕЛЬСТВО РМ-16-02-2008 Г 7')"
   ]
  },
  {
   "cell_type": "code",
   "execution_count": 106,
   "metadata": {},
   "outputs": [
    {
     "data": {
      "text/plain": [
       "0.5062575936317444"
      ]
     },
     "execution_count": 106,
     "metadata": {},
     "output_type": "execute_result"
    }
   ],
   "source": [
    "sentence_similarity('ПОСТАНОВЛЕНИЕ ПРАВИТЕЛЬСТВО РЕСПУБЛИКА МОРДОВИЯ 16-02-2008 7',\n",
    "                    'ПОСТАНОВЛЕНИЕ МЕРА СОЦИАЛЬНЫЙ ПОДДЕРЖКА РАБОТНИК МУНИЦИПАЛЬНЫЙ УЧРЕЖДЕНИЕ УДМУРТИЯ')"
   ]
  },
  {
   "cell_type": "code",
   "execution_count": 107,
   "metadata": {},
   "outputs": [
    {
     "data": {
      "text/plain": [
       "0.2659355103969574"
      ]
     },
     "execution_count": 107,
     "metadata": {},
     "output_type": "execute_result"
    }
   ],
   "source": [
    "sentence_similarity('ПОСТАНОВЛЕНИЕ ПРАВИТЕЛЬСТВО РЕСПУБЛИКА МОРДОВИЯ 16-02-2008 7',\n",
    "                    'ДЕЙСТВИЕ ТАРИФ ПАССАЖИР-ПЕРЕВОЗКА ВЕЩЬ НАХОДИТЬ ПАССАЖИР ЖИВНОСТЬ')"
   ]
  },
  {
   "cell_type": "markdown",
   "metadata": {},
   "source": [
    "### final data table"
   ]
  },
  {
   "cell_type": "code",
   "execution_count": 108,
   "metadata": {},
   "outputs": [
    {
     "data": {
      "text/plain": [
       "True"
      ]
     },
     "execution_count": 108,
     "metadata": {},
     "output_type": "execute_result"
    }
   ],
   "source": [
    "feature_names = cv.get_feature_names()\n",
    "'постановление' in feature_names"
   ]
  },
  {
   "cell_type": "code",
   "execution_count": 109,
   "metadata": {},
   "outputs": [
    {
     "data": {
      "text/html": [
       "<div>\n",
       "<style scoped>\n",
       "    .dataframe tbody tr th:only-of-type {\n",
       "        vertical-align: middle;\n",
       "    }\n",
       "\n",
       "    .dataframe tbody tr th {\n",
       "        vertical-align: top;\n",
       "    }\n",
       "\n",
       "    .dataframe thead th {\n",
       "        text-align: right;\n",
       "    }\n",
       "</style>\n",
       "<table border=\"1\" class=\"dataframe\">\n",
       "  <thead>\n",
       "    <tr style=\"text-align: right;\">\n",
       "      <th></th>\n",
       "      <th>idf</th>\n",
       "    </tr>\n",
       "  </thead>\n",
       "  <tbody>\n",
       "    <tr>\n",
       "      <th>января</th>\n",
       "      <td>10.580386</td>\n",
       "    </tr>\n",
       "    <tr>\n",
       "      <th>января2006</th>\n",
       "      <td>10.580386</td>\n",
       "    </tr>\n",
       "    <tr>\n",
       "      <th>ярмарка</th>\n",
       "      <td>9.992599</td>\n",
       "    </tr>\n",
       "    <tr>\n",
       "      <th>ярославль</th>\n",
       "      <td>7.807797</td>\n",
       "    </tr>\n",
       "    <tr>\n",
       "      <th>ях</th>\n",
       "      <td>10.580386</td>\n",
       "    </tr>\n",
       "  </tbody>\n",
       "</table>\n",
       "</div>"
      ],
      "text/plain": [
       "                  idf\n",
       "января      10.580386\n",
       "января2006  10.580386\n",
       "ярмарка      9.992599\n",
       "ярославль    7.807797\n",
       "ях          10.580386"
      ]
     },
     "execution_count": 109,
     "metadata": {},
     "output_type": "execute_result"
    }
   ],
   "source": [
    "idf_df = pd.DataFrame(tfidf_transformer.idf_, index=feature_names, columns=[\"idf\"])\n",
    "idf_df.tail()"
   ]
  },
  {
   "cell_type": "code",
   "execution_count": 114,
   "metadata": {},
   "outputs": [
    {
     "name": "stderr",
     "output_type": "stream",
     "text": [
      "100%|████████████████████████████████████████████████████████████████████████████▊| 4410/4418 [00:25<00:00, 175.07it/s]\n"
     ]
    },
    {
     "ename": "KeyError",
     "evalue": "4410",
     "output_type": "error",
     "traceback": [
      "\u001b[1;31m---------------------------------------------------------------------------\u001b[0m",
      "\u001b[1;31mValueError\u001b[0m                                Traceback (most recent call last)",
      "\u001b[1;32m~\\AppData\\Local\\Programs\\Python\\Python38-32\\lib\\site-packages\\pandas\\core\\indexes\\range.py\u001b[0m in \u001b[0;36mget_loc\u001b[1;34m(self, key, method, tolerance)\u001b[0m\n\u001b[0;32m    349\u001b[0m             \u001b[1;32mtry\u001b[0m\u001b[1;33m:\u001b[0m\u001b[1;33m\u001b[0m\u001b[1;33m\u001b[0m\u001b[0m\n\u001b[1;32m--> 350\u001b[1;33m                 \u001b[1;32mreturn\u001b[0m \u001b[0mself\u001b[0m\u001b[1;33m.\u001b[0m\u001b[0m_range\u001b[0m\u001b[1;33m.\u001b[0m\u001b[0mindex\u001b[0m\u001b[1;33m(\u001b[0m\u001b[0mnew_key\u001b[0m\u001b[1;33m)\u001b[0m\u001b[1;33m\u001b[0m\u001b[1;33m\u001b[0m\u001b[0m\n\u001b[0m\u001b[0;32m    351\u001b[0m             \u001b[1;32mexcept\u001b[0m \u001b[0mValueError\u001b[0m\u001b[1;33m:\u001b[0m\u001b[1;33m\u001b[0m\u001b[1;33m\u001b[0m\u001b[0m\n",
      "\u001b[1;31mValueError\u001b[0m: 4410 is not in range",
      "\nDuring handling of the above exception, another exception occurred:\n",
      "\u001b[1;31mKeyError\u001b[0m                                  Traceback (most recent call last)",
      "\u001b[1;32m<ipython-input-114-8e746a3e9c27>\u001b[0m in \u001b[0;36m<module>\u001b[1;34m\u001b[0m\n\u001b[0;32m      5\u001b[0m \u001b[1;32mfor\u001b[0m \u001b[0mit\u001b[0m\u001b[1;33m,\u001b[0m \u001b[0mq_row\u001b[0m \u001b[1;32min\u001b[0m \u001b[0mtqdm\u001b[0m\u001b[1;33m(\u001b[0m\u001b[0mqueries_df\u001b[0m\u001b[1;33m.\u001b[0m\u001b[0miterrows\u001b[0m\u001b[1;33m(\u001b[0m\u001b[1;33m)\u001b[0m\u001b[1;33m,\u001b[0m \u001b[0mtotal\u001b[0m\u001b[1;33m=\u001b[0m\u001b[0mqueries_df\u001b[0m\u001b[1;33m.\u001b[0m\u001b[0mshape\u001b[0m\u001b[1;33m[\u001b[0m\u001b[1;36m0\u001b[0m\u001b[1;33m]\u001b[0m\u001b[1;33m)\u001b[0m\u001b[1;33m:\u001b[0m\u001b[1;33m\u001b[0m\u001b[1;33m\u001b[0m\u001b[0m\n\u001b[0;32m      6\u001b[0m     \u001b[0mold\u001b[0m \u001b[1;33m=\u001b[0m \u001b[0mnormforms_old_df\u001b[0m\u001b[1;33m.\u001b[0m\u001b[0mloc\u001b[0m\u001b[1;33m[\u001b[0m\u001b[0mit\u001b[0m\u001b[1;33m]\u001b[0m\u001b[1;33m[\u001b[0m\u001b[1;34m'normal'\u001b[0m\u001b[1;33m]\u001b[0m\u001b[1;33m.\u001b[0m\u001b[0msplit\u001b[0m\u001b[1;33m(\u001b[0m\u001b[1;34m';'\u001b[0m\u001b[1;33m)\u001b[0m\u001b[1;33m[\u001b[0m\u001b[1;36m0\u001b[0m\u001b[1;33m]\u001b[0m\u001b[1;33m\u001b[0m\u001b[1;33m\u001b[0m\u001b[0m\n\u001b[1;32m----> 7\u001b[1;33m     \u001b[0mnew\u001b[0m \u001b[1;33m=\u001b[0m \u001b[0mnormforms_new_df\u001b[0m\u001b[1;33m.\u001b[0m\u001b[0mloc\u001b[0m\u001b[1;33m[\u001b[0m\u001b[0mit\u001b[0m\u001b[1;33m]\u001b[0m\u001b[1;33m[\u001b[0m\u001b[1;34m'normal'\u001b[0m\u001b[1;33m]\u001b[0m\u001b[1;33m.\u001b[0m\u001b[0msplit\u001b[0m\u001b[1;33m(\u001b[0m\u001b[1;34m';'\u001b[0m\u001b[1;33m)\u001b[0m\u001b[1;33m[\u001b[0m\u001b[1;36m0\u001b[0m\u001b[1;33m]\u001b[0m\u001b[1;33m\u001b[0m\u001b[1;33m\u001b[0m\u001b[0m\n\u001b[0m\u001b[0;32m      8\u001b[0m     \u001b[0mdeleted\u001b[0m \u001b[1;33m=\u001b[0m \u001b[1;33m[\u001b[0m\u001b[0mword\u001b[0m \u001b[1;32mfor\u001b[0m \u001b[0mword\u001b[0m \u001b[1;32min\u001b[0m \u001b[0mold\u001b[0m\u001b[1;33m.\u001b[0m\u001b[0msplit\u001b[0m\u001b[1;33m(\u001b[0m\u001b[1;33m)\u001b[0m \u001b[1;32mif\u001b[0m \u001b[0mword\u001b[0m \u001b[1;32mnot\u001b[0m \u001b[1;32min\u001b[0m \u001b[0mnew\u001b[0m\u001b[1;33m]\u001b[0m\u001b[1;33m\u001b[0m\u001b[1;33m\u001b[0m\u001b[0m\n\u001b[0;32m      9\u001b[0m \u001b[1;33m\u001b[0m\u001b[0m\n",
      "\u001b[1;32m~\\AppData\\Local\\Programs\\Python\\Python38-32\\lib\\site-packages\\pandas\\core\\indexing.py\u001b[0m in \u001b[0;36m__getitem__\u001b[1;34m(self, key)\u001b[0m\n\u001b[0;32m   1766\u001b[0m \u001b[1;33m\u001b[0m\u001b[0m\n\u001b[0;32m   1767\u001b[0m             \u001b[0mmaybe_callable\u001b[0m \u001b[1;33m=\u001b[0m \u001b[0mcom\u001b[0m\u001b[1;33m.\u001b[0m\u001b[0mapply_if_callable\u001b[0m\u001b[1;33m(\u001b[0m\u001b[0mkey\u001b[0m\u001b[1;33m,\u001b[0m \u001b[0mself\u001b[0m\u001b[1;33m.\u001b[0m\u001b[0mobj\u001b[0m\u001b[1;33m)\u001b[0m\u001b[1;33m\u001b[0m\u001b[1;33m\u001b[0m\u001b[0m\n\u001b[1;32m-> 1768\u001b[1;33m             \u001b[1;32mreturn\u001b[0m \u001b[0mself\u001b[0m\u001b[1;33m.\u001b[0m\u001b[0m_getitem_axis\u001b[0m\u001b[1;33m(\u001b[0m\u001b[0mmaybe_callable\u001b[0m\u001b[1;33m,\u001b[0m \u001b[0maxis\u001b[0m\u001b[1;33m=\u001b[0m\u001b[0maxis\u001b[0m\u001b[1;33m)\u001b[0m\u001b[1;33m\u001b[0m\u001b[1;33m\u001b[0m\u001b[0m\n\u001b[0m\u001b[0;32m   1769\u001b[0m \u001b[1;33m\u001b[0m\u001b[0m\n\u001b[0;32m   1770\u001b[0m     \u001b[1;32mdef\u001b[0m \u001b[0m_is_scalar_access\u001b[0m\u001b[1;33m(\u001b[0m\u001b[0mself\u001b[0m\u001b[1;33m,\u001b[0m \u001b[0mkey\u001b[0m\u001b[1;33m:\u001b[0m \u001b[0mTuple\u001b[0m\u001b[1;33m)\u001b[0m\u001b[1;33m:\u001b[0m\u001b[1;33m\u001b[0m\u001b[1;33m\u001b[0m\u001b[0m\n",
      "\u001b[1;32m~\\AppData\\Local\\Programs\\Python\\Python38-32\\lib\\site-packages\\pandas\\core\\indexing.py\u001b[0m in \u001b[0;36m_getitem_axis\u001b[1;34m(self, key, axis)\u001b[0m\n\u001b[0;32m   1963\u001b[0m         \u001b[1;31m# fall thru to straight lookup\u001b[0m\u001b[1;33m\u001b[0m\u001b[1;33m\u001b[0m\u001b[1;33m\u001b[0m\u001b[0m\n\u001b[0;32m   1964\u001b[0m         \u001b[0mself\u001b[0m\u001b[1;33m.\u001b[0m\u001b[0m_validate_key\u001b[0m\u001b[1;33m(\u001b[0m\u001b[0mkey\u001b[0m\u001b[1;33m,\u001b[0m \u001b[0maxis\u001b[0m\u001b[1;33m)\u001b[0m\u001b[1;33m\u001b[0m\u001b[1;33m\u001b[0m\u001b[0m\n\u001b[1;32m-> 1965\u001b[1;33m         \u001b[1;32mreturn\u001b[0m \u001b[0mself\u001b[0m\u001b[1;33m.\u001b[0m\u001b[0m_get_label\u001b[0m\u001b[1;33m(\u001b[0m\u001b[0mkey\u001b[0m\u001b[1;33m,\u001b[0m \u001b[0maxis\u001b[0m\u001b[1;33m=\u001b[0m\u001b[0maxis\u001b[0m\u001b[1;33m)\u001b[0m\u001b[1;33m\u001b[0m\u001b[1;33m\u001b[0m\u001b[0m\n\u001b[0m\u001b[0;32m   1966\u001b[0m \u001b[1;33m\u001b[0m\u001b[0m\n\u001b[0;32m   1967\u001b[0m \u001b[1;33m\u001b[0m\u001b[0m\n",
      "\u001b[1;32m~\\AppData\\Local\\Programs\\Python\\Python38-32\\lib\\site-packages\\pandas\\core\\indexing.py\u001b[0m in \u001b[0;36m_get_label\u001b[1;34m(self, label, axis)\u001b[0m\n\u001b[0;32m    623\u001b[0m             \u001b[1;32mraise\u001b[0m \u001b[0mIndexingError\u001b[0m\u001b[1;33m(\u001b[0m\u001b[1;34m\"no slices here, handle elsewhere\"\u001b[0m\u001b[1;33m)\u001b[0m\u001b[1;33m\u001b[0m\u001b[1;33m\u001b[0m\u001b[0m\n\u001b[0;32m    624\u001b[0m \u001b[1;33m\u001b[0m\u001b[0m\n\u001b[1;32m--> 625\u001b[1;33m         \u001b[1;32mreturn\u001b[0m \u001b[0mself\u001b[0m\u001b[1;33m.\u001b[0m\u001b[0mobj\u001b[0m\u001b[1;33m.\u001b[0m\u001b[0m_xs\u001b[0m\u001b[1;33m(\u001b[0m\u001b[0mlabel\u001b[0m\u001b[1;33m,\u001b[0m \u001b[0maxis\u001b[0m\u001b[1;33m=\u001b[0m\u001b[0maxis\u001b[0m\u001b[1;33m)\u001b[0m\u001b[1;33m\u001b[0m\u001b[1;33m\u001b[0m\u001b[0m\n\u001b[0m\u001b[0;32m    626\u001b[0m \u001b[1;33m\u001b[0m\u001b[0m\n\u001b[0;32m    627\u001b[0m     \u001b[1;32mdef\u001b[0m \u001b[0m_get_loc\u001b[0m\u001b[1;33m(\u001b[0m\u001b[0mself\u001b[0m\u001b[1;33m,\u001b[0m \u001b[0mkey\u001b[0m\u001b[1;33m:\u001b[0m \u001b[0mint\u001b[0m\u001b[1;33m,\u001b[0m \u001b[0maxis\u001b[0m\u001b[1;33m:\u001b[0m \u001b[0mint\u001b[0m\u001b[1;33m)\u001b[0m\u001b[1;33m:\u001b[0m\u001b[1;33m\u001b[0m\u001b[1;33m\u001b[0m\u001b[0m\n",
      "\u001b[1;32m~\\AppData\\Local\\Programs\\Python\\Python38-32\\lib\\site-packages\\pandas\\core\\generic.py\u001b[0m in \u001b[0;36mxs\u001b[1;34m(self, key, axis, level, drop_level)\u001b[0m\n\u001b[0;32m   3535\u001b[0m             \u001b[0mloc\u001b[0m\u001b[1;33m,\u001b[0m \u001b[0mnew_index\u001b[0m \u001b[1;33m=\u001b[0m \u001b[0mself\u001b[0m\u001b[1;33m.\u001b[0m\u001b[0mindex\u001b[0m\u001b[1;33m.\u001b[0m\u001b[0mget_loc_level\u001b[0m\u001b[1;33m(\u001b[0m\u001b[0mkey\u001b[0m\u001b[1;33m,\u001b[0m \u001b[0mdrop_level\u001b[0m\u001b[1;33m=\u001b[0m\u001b[0mdrop_level\u001b[0m\u001b[1;33m)\u001b[0m\u001b[1;33m\u001b[0m\u001b[1;33m\u001b[0m\u001b[0m\n\u001b[0;32m   3536\u001b[0m         \u001b[1;32melse\u001b[0m\u001b[1;33m:\u001b[0m\u001b[1;33m\u001b[0m\u001b[1;33m\u001b[0m\u001b[0m\n\u001b[1;32m-> 3537\u001b[1;33m             \u001b[0mloc\u001b[0m \u001b[1;33m=\u001b[0m \u001b[0mself\u001b[0m\u001b[1;33m.\u001b[0m\u001b[0mindex\u001b[0m\u001b[1;33m.\u001b[0m\u001b[0mget_loc\u001b[0m\u001b[1;33m(\u001b[0m\u001b[0mkey\u001b[0m\u001b[1;33m)\u001b[0m\u001b[1;33m\u001b[0m\u001b[1;33m\u001b[0m\u001b[0m\n\u001b[0m\u001b[0;32m   3538\u001b[0m \u001b[1;33m\u001b[0m\u001b[0m\n\u001b[0;32m   3539\u001b[0m             \u001b[1;32mif\u001b[0m \u001b[0misinstance\u001b[0m\u001b[1;33m(\u001b[0m\u001b[0mloc\u001b[0m\u001b[1;33m,\u001b[0m \u001b[0mnp\u001b[0m\u001b[1;33m.\u001b[0m\u001b[0mndarray\u001b[0m\u001b[1;33m)\u001b[0m\u001b[1;33m:\u001b[0m\u001b[1;33m\u001b[0m\u001b[1;33m\u001b[0m\u001b[0m\n",
      "\u001b[1;32m~\\AppData\\Local\\Programs\\Python\\Python38-32\\lib\\site-packages\\pandas\\core\\indexes\\range.py\u001b[0m in \u001b[0;36mget_loc\u001b[1;34m(self, key, method, tolerance)\u001b[0m\n\u001b[0;32m    350\u001b[0m                 \u001b[1;32mreturn\u001b[0m \u001b[0mself\u001b[0m\u001b[1;33m.\u001b[0m\u001b[0m_range\u001b[0m\u001b[1;33m.\u001b[0m\u001b[0mindex\u001b[0m\u001b[1;33m(\u001b[0m\u001b[0mnew_key\u001b[0m\u001b[1;33m)\u001b[0m\u001b[1;33m\u001b[0m\u001b[1;33m\u001b[0m\u001b[0m\n\u001b[0;32m    351\u001b[0m             \u001b[1;32mexcept\u001b[0m \u001b[0mValueError\u001b[0m\u001b[1;33m:\u001b[0m\u001b[1;33m\u001b[0m\u001b[1;33m\u001b[0m\u001b[0m\n\u001b[1;32m--> 352\u001b[1;33m                 \u001b[1;32mraise\u001b[0m \u001b[0mKeyError\u001b[0m\u001b[1;33m(\u001b[0m\u001b[0mkey\u001b[0m\u001b[1;33m)\u001b[0m\u001b[1;33m\u001b[0m\u001b[1;33m\u001b[0m\u001b[0m\n\u001b[0m\u001b[0;32m    353\u001b[0m         \u001b[1;32mreturn\u001b[0m \u001b[0msuper\u001b[0m\u001b[1;33m(\u001b[0m\u001b[1;33m)\u001b[0m\u001b[1;33m.\u001b[0m\u001b[0mget_loc\u001b[0m\u001b[1;33m(\u001b[0m\u001b[0mkey\u001b[0m\u001b[1;33m,\u001b[0m \u001b[0mmethod\u001b[0m\u001b[1;33m=\u001b[0m\u001b[0mmethod\u001b[0m\u001b[1;33m,\u001b[0m \u001b[0mtolerance\u001b[0m\u001b[1;33m=\u001b[0m\u001b[0mtolerance\u001b[0m\u001b[1;33m)\u001b[0m\u001b[1;33m\u001b[0m\u001b[1;33m\u001b[0m\u001b[0m\n\u001b[0;32m    354\u001b[0m \u001b[1;33m\u001b[0m\u001b[0m\n",
      "\u001b[1;31mKeyError\u001b[0m: 4410"
     ]
    }
   ],
   "source": [
    "word_features_table = []\n",
    "row_names_list = []\n",
    "Y = []\n",
    "\n",
    "for it, q_row in tqdm(queries_df.iterrows(), total=queries_df.shape[0]):\n",
    "    old = normforms_old_df.loc[it]['normal'].split(';')[0]\n",
    "    new = normforms_new_df.loc[it]['normal'].split(';')[0]\n",
    "    deleted = [word for word in old.split() if word not in new]\n",
    "    \n",
    "    tfidf_row = pd.DataFrame(all_normforms_tfidf[it].T.todense(), index=feature_names, columns=[\"tfidf\"])\n",
    "    #print(tfidf_row)\n",
    "    \n",
    "    for word in old.split():\n",
    "        if word.lower() in feature_names:\n",
    "            row_names_list.append(word+'_'+str(it)+'_'+old) # row name\n",
    "            \n",
    "            Y.append(1 if word in deleted else 0) # Y\n",
    "            \n",
    "            features_row = []\n",
    "            features_row.append(tfidf_row.loc[word.lower()].tolist()[0]) # tfidf\n",
    "            features_row.append(idf_df.loc[word.lower()].tolist()[0]) # idf\n",
    "            features_row.append(sentence_similarity(old, old.replace(word, '').replace('  ', ' '))) # w2v_imp\n",
    "        \n",
    "            word_features_table.append(features_row)\n",
    "    \n",
    "word_features_df = pd.DataFrame(word_features_table, index=row_names_list,\n",
    "                                columns=['tfidf', 'idf', 'w2v_imp'])\n",
    "print(word_features_df.shape)\n",
    "word_features_df.head()"
   ]
  },
  {
   "cell_type": "code",
   "execution_count": null,
   "metadata": {},
   "outputs": [],
   "source": []
  },
  {
   "cell_type": "code",
   "execution_count": null,
   "metadata": {},
   "outputs": [],
   "source": []
  }
 ],
 "metadata": {
  "kernelspec": {
   "display_name": "Python 3",
   "language": "python",
   "name": "python3"
  },
  "language_info": {
   "codemirror_mode": {
    "name": "ipython",
    "version": 3
   },
   "file_extension": ".py",
   "mimetype": "text/x-python",
   "name": "python",
   "nbconvert_exporter": "python",
   "pygments_lexer": "ipython3",
   "version": "3.8.3"
  }
 },
 "nbformat": 4,
 "nbformat_minor": 4
}
